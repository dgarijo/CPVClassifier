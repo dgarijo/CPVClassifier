{
  "nbformat": 4,
  "nbformat_minor": 0,
  "metadata": {
    "colab": {
      "name": "MKaan Model.ipynb",
      "provenance": [],
      "authorship_tag": "ABX9TyO5Mix/Bs9mGEXiJrpEdZ/B",
      "include_colab_link": false
    },
    "kernelspec": {
      "name": "python3",
      "display_name": "Python 3"
    },
    "language_info": {
      "name": "python"
    },
    "widgets": {
      "application/vnd.jupyter.widget-state+json": {
        "f078a3f5d0c34da08b439f81d35c995b": {
          "model_module": "@jupyter-widgets/controls",
          "model_name": "HBoxModel",
          "model_module_version": "1.5.0",
          "state": {
            "_dom_classes": [],
            "_model_module": "@jupyter-widgets/controls",
            "_model_module_version": "1.5.0",
            "_model_name": "HBoxModel",
            "_view_count": null,
            "_view_module": "@jupyter-widgets/controls",
            "_view_module_version": "1.5.0",
            "_view_name": "HBoxView",
            "box_style": "",
            "children": [
              "IPY_MODEL_02e420ca2764400e9ea7179fc8e42e98",
              "IPY_MODEL_4696560227ec4f199d94c444577f5694",
              "IPY_MODEL_3fd201bba752447a94ca4a926298f023"
            ],
            "layout": "IPY_MODEL_9e5a27c1589a47299187324b487f40b6"
          }
        },
        "02e420ca2764400e9ea7179fc8e42e98": {
          "model_module": "@jupyter-widgets/controls",
          "model_name": "HTMLModel",
          "model_module_version": "1.5.0",
          "state": {
            "_dom_classes": [],
            "_model_module": "@jupyter-widgets/controls",
            "_model_module_version": "1.5.0",
            "_model_name": "HTMLModel",
            "_view_count": null,
            "_view_module": "@jupyter-widgets/controls",
            "_view_module_version": "1.5.0",
            "_view_name": "HTMLView",
            "description": "",
            "description_tooltip": null,
            "layout": "IPY_MODEL_7269c1e8193041e0b5f8f4f83d053057",
            "placeholder": "​",
            "style": "IPY_MODEL_d017492e32c4485e9ba6c372b7debf04",
            "value": "Downloading: 100%"
          }
        },
        "4696560227ec4f199d94c444577f5694": {
          "model_module": "@jupyter-widgets/controls",
          "model_name": "FloatProgressModel",
          "model_module_version": "1.5.0",
          "state": {
            "_dom_classes": [],
            "_model_module": "@jupyter-widgets/controls",
            "_model_module_version": "1.5.0",
            "_model_name": "FloatProgressModel",
            "_view_count": null,
            "_view_module": "@jupyter-widgets/controls",
            "_view_module_version": "1.5.0",
            "_view_name": "ProgressView",
            "bar_style": "success",
            "description": "",
            "description_tooltip": null,
            "layout": "IPY_MODEL_22c56a46c7fe4e77b62698777d8176c3",
            "max": 7874,
            "min": 0,
            "orientation": "horizontal",
            "style": "IPY_MODEL_bb53a9349aed420d8ecb488ea1d9be96",
            "value": 7874
          }
        },
        "3fd201bba752447a94ca4a926298f023": {
          "model_module": "@jupyter-widgets/controls",
          "model_name": "HTMLModel",
          "model_module_version": "1.5.0",
          "state": {
            "_dom_classes": [],
            "_model_module": "@jupyter-widgets/controls",
            "_model_module_version": "1.5.0",
            "_model_name": "HTMLModel",
            "_view_count": null,
            "_view_module": "@jupyter-widgets/controls",
            "_view_module_version": "1.5.0",
            "_view_name": "HTMLView",
            "description": "",
            "description_tooltip": null,
            "layout": "IPY_MODEL_0158b6107fba4dbeb904d40606c2b6da",
            "placeholder": "​",
            "style": "IPY_MODEL_178ae3e9e5ca45d3ae79df60d0017c16",
            "value": " 7.69k/7.69k [00:00&lt;00:00, 5.78kB/s]"
          }
        },
        "9e5a27c1589a47299187324b487f40b6": {
          "model_module": "@jupyter-widgets/base",
          "model_name": "LayoutModel",
          "model_module_version": "1.2.0",
          "state": {
            "_model_module": "@jupyter-widgets/base",
            "_model_module_version": "1.2.0",
            "_model_name": "LayoutModel",
            "_view_count": null,
            "_view_module": "@jupyter-widgets/base",
            "_view_module_version": "1.2.0",
            "_view_name": "LayoutView",
            "align_content": null,
            "align_items": null,
            "align_self": null,
            "border": null,
            "bottom": null,
            "display": null,
            "flex": null,
            "flex_flow": null,
            "grid_area": null,
            "grid_auto_columns": null,
            "grid_auto_flow": null,
            "grid_auto_rows": null,
            "grid_column": null,
            "grid_gap": null,
            "grid_row": null,
            "grid_template_areas": null,
            "grid_template_columns": null,
            "grid_template_rows": null,
            "height": null,
            "justify_content": null,
            "justify_items": null,
            "left": null,
            "margin": null,
            "max_height": null,
            "max_width": null,
            "min_height": null,
            "min_width": null,
            "object_fit": null,
            "object_position": null,
            "order": null,
            "overflow": null,
            "overflow_x": null,
            "overflow_y": null,
            "padding": null,
            "right": null,
            "top": null,
            "visibility": null,
            "width": null
          }
        },
        "7269c1e8193041e0b5f8f4f83d053057": {
          "model_module": "@jupyter-widgets/base",
          "model_name": "LayoutModel",
          "model_module_version": "1.2.0",
          "state": {
            "_model_module": "@jupyter-widgets/base",
            "_model_module_version": "1.2.0",
            "_model_name": "LayoutModel",
            "_view_count": null,
            "_view_module": "@jupyter-widgets/base",
            "_view_module_version": "1.2.0",
            "_view_name": "LayoutView",
            "align_content": null,
            "align_items": null,
            "align_self": null,
            "border": null,
            "bottom": null,
            "display": null,
            "flex": null,
            "flex_flow": null,
            "grid_area": null,
            "grid_auto_columns": null,
            "grid_auto_flow": null,
            "grid_auto_rows": null,
            "grid_column": null,
            "grid_gap": null,
            "grid_row": null,
            "grid_template_areas": null,
            "grid_template_columns": null,
            "grid_template_rows": null,
            "height": null,
            "justify_content": null,
            "justify_items": null,
            "left": null,
            "margin": null,
            "max_height": null,
            "max_width": null,
            "min_height": null,
            "min_width": null,
            "object_fit": null,
            "object_position": null,
            "order": null,
            "overflow": null,
            "overflow_x": null,
            "overflow_y": null,
            "padding": null,
            "right": null,
            "top": null,
            "visibility": null,
            "width": null
          }
        },
        "d017492e32c4485e9ba6c372b7debf04": {
          "model_module": "@jupyter-widgets/controls",
          "model_name": "DescriptionStyleModel",
          "model_module_version": "1.5.0",
          "state": {
            "_model_module": "@jupyter-widgets/controls",
            "_model_module_version": "1.5.0",
            "_model_name": "DescriptionStyleModel",
            "_view_count": null,
            "_view_module": "@jupyter-widgets/base",
            "_view_module_version": "1.2.0",
            "_view_name": "StyleView",
            "description_width": ""
          }
        },
        "22c56a46c7fe4e77b62698777d8176c3": {
          "model_module": "@jupyter-widgets/base",
          "model_name": "LayoutModel",
          "model_module_version": "1.2.0",
          "state": {
            "_model_module": "@jupyter-widgets/base",
            "_model_module_version": "1.2.0",
            "_model_name": "LayoutModel",
            "_view_count": null,
            "_view_module": "@jupyter-widgets/base",
            "_view_module_version": "1.2.0",
            "_view_name": "LayoutView",
            "align_content": null,
            "align_items": null,
            "align_self": null,
            "border": null,
            "bottom": null,
            "display": null,
            "flex": null,
            "flex_flow": null,
            "grid_area": null,
            "grid_auto_columns": null,
            "grid_auto_flow": null,
            "grid_auto_rows": null,
            "grid_column": null,
            "grid_gap": null,
            "grid_row": null,
            "grid_template_areas": null,
            "grid_template_columns": null,
            "grid_template_rows": null,
            "height": null,
            "justify_content": null,
            "justify_items": null,
            "left": null,
            "margin": null,
            "max_height": null,
            "max_width": null,
            "min_height": null,
            "min_width": null,
            "object_fit": null,
            "object_position": null,
            "order": null,
            "overflow": null,
            "overflow_x": null,
            "overflow_y": null,
            "padding": null,
            "right": null,
            "top": null,
            "visibility": null,
            "width": null
          }
        },
        "bb53a9349aed420d8ecb488ea1d9be96": {
          "model_module": "@jupyter-widgets/controls",
          "model_name": "ProgressStyleModel",
          "model_module_version": "1.5.0",
          "state": {
            "_model_module": "@jupyter-widgets/controls",
            "_model_module_version": "1.5.0",
            "_model_name": "ProgressStyleModel",
            "_view_count": null,
            "_view_module": "@jupyter-widgets/base",
            "_view_module_version": "1.2.0",
            "_view_name": "StyleView",
            "bar_color": null,
            "description_width": ""
          }
        },
        "0158b6107fba4dbeb904d40606c2b6da": {
          "model_module": "@jupyter-widgets/base",
          "model_name": "LayoutModel",
          "model_module_version": "1.2.0",
          "state": {
            "_model_module": "@jupyter-widgets/base",
            "_model_module_version": "1.2.0",
            "_model_name": "LayoutModel",
            "_view_count": null,
            "_view_module": "@jupyter-widgets/base",
            "_view_module_version": "1.2.0",
            "_view_name": "LayoutView",
            "align_content": null,
            "align_items": null,
            "align_self": null,
            "border": null,
            "bottom": null,
            "display": null,
            "flex": null,
            "flex_flow": null,
            "grid_area": null,
            "grid_auto_columns": null,
            "grid_auto_flow": null,
            "grid_auto_rows": null,
            "grid_column": null,
            "grid_gap": null,
            "grid_row": null,
            "grid_template_areas": null,
            "grid_template_columns": null,
            "grid_template_rows": null,
            "height": null,
            "justify_content": null,
            "justify_items": null,
            "left": null,
            "margin": null,
            "max_height": null,
            "max_width": null,
            "min_height": null,
            "min_width": null,
            "object_fit": null,
            "object_position": null,
            "order": null,
            "overflow": null,
            "overflow_x": null,
            "overflow_y": null,
            "padding": null,
            "right": null,
            "top": null,
            "visibility": null,
            "width": null
          }
        },
        "178ae3e9e5ca45d3ae79df60d0017c16": {
          "model_module": "@jupyter-widgets/controls",
          "model_name": "DescriptionStyleModel",
          "model_module_version": "1.5.0",
          "state": {
            "_model_module": "@jupyter-widgets/controls",
            "_model_module_version": "1.5.0",
            "_model_name": "DescriptionStyleModel",
            "_view_count": null,
            "_view_module": "@jupyter-widgets/base",
            "_view_module_version": "1.2.0",
            "_view_name": "StyleView",
            "description_width": ""
          }
        },
        "3bd024cbac1d426db8e10efdfb04760c": {
          "model_module": "@jupyter-widgets/controls",
          "model_name": "HBoxModel",
          "model_module_version": "1.5.0",
          "state": {
            "_dom_classes": [],
            "_model_module": "@jupyter-widgets/controls",
            "_model_module_version": "1.5.0",
            "_model_name": "HBoxModel",
            "_view_count": null,
            "_view_module": "@jupyter-widgets/controls",
            "_view_module_version": "1.5.0",
            "_view_name": "HBoxView",
            "box_style": "",
            "children": [
              "IPY_MODEL_a45cc64df313479d87d7a879f0b9ceb4",
              "IPY_MODEL_3446d83b9a58446c9354a82eb054965c",
              "IPY_MODEL_399bc229eb70470a86a9a06911b88f55"
            ],
            "layout": "IPY_MODEL_fe354164b5e547e1927212674b3e0ad6"
          }
        },
        "a45cc64df313479d87d7a879f0b9ceb4": {
          "model_module": "@jupyter-widgets/controls",
          "model_name": "HTMLModel",
          "model_module_version": "1.5.0",
          "state": {
            "_dom_classes": [],
            "_model_module": "@jupyter-widgets/controls",
            "_model_module_version": "1.5.0",
            "_model_name": "HTMLModel",
            "_view_count": null,
            "_view_module": "@jupyter-widgets/controls",
            "_view_module_version": "1.5.0",
            "_view_name": "HTMLView",
            "description": "",
            "description_tooltip": null,
            "layout": "IPY_MODEL_6b5c4c584fd54cc3922e7107be2a73bd",
            "placeholder": "​",
            "style": "IPY_MODEL_f08ffb2f685d4bb286064c7a70d69285",
            "value": "Downloading: 100%"
          }
        },
        "3446d83b9a58446c9354a82eb054965c": {
          "model_module": "@jupyter-widgets/controls",
          "model_name": "FloatProgressModel",
          "model_module_version": "1.5.0",
          "state": {
            "_dom_classes": [],
            "_model_module": "@jupyter-widgets/controls",
            "_model_module_version": "1.5.0",
            "_model_name": "FloatProgressModel",
            "_view_count": null,
            "_view_module": "@jupyter-widgets/controls",
            "_view_module_version": "1.5.0",
            "_view_name": "ProgressView",
            "bar_style": "success",
            "description": "",
            "description_tooltip": null,
            "layout": "IPY_MODEL_e1256794cb544a24b4fc0568f2f3b428",
            "max": 1961828,
            "min": 0,
            "orientation": "horizontal",
            "style": "IPY_MODEL_b6c00e679ad64654b8c07bdb28450fbe",
            "value": 1961828
          }
        },
        "399bc229eb70470a86a9a06911b88f55": {
          "model_module": "@jupyter-widgets/controls",
          "model_name": "HTMLModel",
          "model_module_version": "1.5.0",
          "state": {
            "_dom_classes": [],
            "_model_module": "@jupyter-widgets/controls",
            "_model_module_version": "1.5.0",
            "_model_name": "HTMLModel",
            "_view_count": null,
            "_view_module": "@jupyter-widgets/controls",
            "_view_module_version": "1.5.0",
            "_view_name": "HTMLView",
            "description": "",
            "description_tooltip": null,
            "layout": "IPY_MODEL_efa379685aaf4f33a1f2c7586b69558a",
            "placeholder": "​",
            "style": "IPY_MODEL_87a9fb6ada4e49a0b462976968effb97",
            "value": " 1.87M/1.87M [00:00&lt;00:00, 6.50MB/s]"
          }
        },
        "fe354164b5e547e1927212674b3e0ad6": {
          "model_module": "@jupyter-widgets/base",
          "model_name": "LayoutModel",
          "model_module_version": "1.2.0",
          "state": {
            "_model_module": "@jupyter-widgets/base",
            "_model_module_version": "1.2.0",
            "_model_name": "LayoutModel",
            "_view_count": null,
            "_view_module": "@jupyter-widgets/base",
            "_view_module_version": "1.2.0",
            "_view_name": "LayoutView",
            "align_content": null,
            "align_items": null,
            "align_self": null,
            "border": null,
            "bottom": null,
            "display": null,
            "flex": null,
            "flex_flow": null,
            "grid_area": null,
            "grid_auto_columns": null,
            "grid_auto_flow": null,
            "grid_auto_rows": null,
            "grid_column": null,
            "grid_gap": null,
            "grid_row": null,
            "grid_template_areas": null,
            "grid_template_columns": null,
            "grid_template_rows": null,
            "height": null,
            "justify_content": null,
            "justify_items": null,
            "left": null,
            "margin": null,
            "max_height": null,
            "max_width": null,
            "min_height": null,
            "min_width": null,
            "object_fit": null,
            "object_position": null,
            "order": null,
            "overflow": null,
            "overflow_x": null,
            "overflow_y": null,
            "padding": null,
            "right": null,
            "top": null,
            "visibility": null,
            "width": null
          }
        },
        "6b5c4c584fd54cc3922e7107be2a73bd": {
          "model_module": "@jupyter-widgets/base",
          "model_name": "LayoutModel",
          "model_module_version": "1.2.0",
          "state": {
            "_model_module": "@jupyter-widgets/base",
            "_model_module_version": "1.2.0",
            "_model_name": "LayoutModel",
            "_view_count": null,
            "_view_module": "@jupyter-widgets/base",
            "_view_module_version": "1.2.0",
            "_view_name": "LayoutView",
            "align_content": null,
            "align_items": null,
            "align_self": null,
            "border": null,
            "bottom": null,
            "display": null,
            "flex": null,
            "flex_flow": null,
            "grid_area": null,
            "grid_auto_columns": null,
            "grid_auto_flow": null,
            "grid_auto_rows": null,
            "grid_column": null,
            "grid_gap": null,
            "grid_row": null,
            "grid_template_areas": null,
            "grid_template_columns": null,
            "grid_template_rows": null,
            "height": null,
            "justify_content": null,
            "justify_items": null,
            "left": null,
            "margin": null,
            "max_height": null,
            "max_width": null,
            "min_height": null,
            "min_width": null,
            "object_fit": null,
            "object_position": null,
            "order": null,
            "overflow": null,
            "overflow_x": null,
            "overflow_y": null,
            "padding": null,
            "right": null,
            "top": null,
            "visibility": null,
            "width": null
          }
        },
        "f08ffb2f685d4bb286064c7a70d69285": {
          "model_module": "@jupyter-widgets/controls",
          "model_name": "DescriptionStyleModel",
          "model_module_version": "1.5.0",
          "state": {
            "_model_module": "@jupyter-widgets/controls",
            "_model_module_version": "1.5.0",
            "_model_name": "DescriptionStyleModel",
            "_view_count": null,
            "_view_module": "@jupyter-widgets/base",
            "_view_module_version": "1.2.0",
            "_view_name": "StyleView",
            "description_width": ""
          }
        },
        "e1256794cb544a24b4fc0568f2f3b428": {
          "model_module": "@jupyter-widgets/base",
          "model_name": "LayoutModel",
          "model_module_version": "1.2.0",
          "state": {
            "_model_module": "@jupyter-widgets/base",
            "_model_module_version": "1.2.0",
            "_model_name": "LayoutModel",
            "_view_count": null,
            "_view_module": "@jupyter-widgets/base",
            "_view_module_version": "1.2.0",
            "_view_name": "LayoutView",
            "align_content": null,
            "align_items": null,
            "align_self": null,
            "border": null,
            "bottom": null,
            "display": null,
            "flex": null,
            "flex_flow": null,
            "grid_area": null,
            "grid_auto_columns": null,
            "grid_auto_flow": null,
            "grid_auto_rows": null,
            "grid_column": null,
            "grid_gap": null,
            "grid_row": null,
            "grid_template_areas": null,
            "grid_template_columns": null,
            "grid_template_rows": null,
            "height": null,
            "justify_content": null,
            "justify_items": null,
            "left": null,
            "margin": null,
            "max_height": null,
            "max_width": null,
            "min_height": null,
            "min_width": null,
            "object_fit": null,
            "object_position": null,
            "order": null,
            "overflow": null,
            "overflow_x": null,
            "overflow_y": null,
            "padding": null,
            "right": null,
            "top": null,
            "visibility": null,
            "width": null
          }
        },
        "b6c00e679ad64654b8c07bdb28450fbe": {
          "model_module": "@jupyter-widgets/controls",
          "model_name": "ProgressStyleModel",
          "model_module_version": "1.5.0",
          "state": {
            "_model_module": "@jupyter-widgets/controls",
            "_model_module_version": "1.5.0",
            "_model_name": "ProgressStyleModel",
            "_view_count": null,
            "_view_module": "@jupyter-widgets/base",
            "_view_module_version": "1.2.0",
            "_view_name": "StyleView",
            "bar_color": null,
            "description_width": ""
          }
        },
        "efa379685aaf4f33a1f2c7586b69558a": {
          "model_module": "@jupyter-widgets/base",
          "model_name": "LayoutModel",
          "model_module_version": "1.2.0",
          "state": {
            "_model_module": "@jupyter-widgets/base",
            "_model_module_version": "1.2.0",
            "_model_name": "LayoutModel",
            "_view_count": null,
            "_view_module": "@jupyter-widgets/base",
            "_view_module_version": "1.2.0",
            "_view_name": "LayoutView",
            "align_content": null,
            "align_items": null,
            "align_self": null,
            "border": null,
            "bottom": null,
            "display": null,
            "flex": null,
            "flex_flow": null,
            "grid_area": null,
            "grid_auto_columns": null,
            "grid_auto_flow": null,
            "grid_auto_rows": null,
            "grid_column": null,
            "grid_gap": null,
            "grid_row": null,
            "grid_template_areas": null,
            "grid_template_columns": null,
            "grid_template_rows": null,
            "height": null,
            "justify_content": null,
            "justify_items": null,
            "left": null,
            "margin": null,
            "max_height": null,
            "max_width": null,
            "min_height": null,
            "min_width": null,
            "object_fit": null,
            "object_position": null,
            "order": null,
            "overflow": null,
            "overflow_x": null,
            "overflow_y": null,
            "padding": null,
            "right": null,
            "top": null,
            "visibility": null,
            "width": null
          }
        },
        "87a9fb6ada4e49a0b462976968effb97": {
          "model_module": "@jupyter-widgets/controls",
          "model_name": "DescriptionStyleModel",
          "model_module_version": "1.5.0",
          "state": {
            "_model_module": "@jupyter-widgets/controls",
            "_model_module_version": "1.5.0",
            "_model_name": "DescriptionStyleModel",
            "_view_count": null,
            "_view_module": "@jupyter-widgets/base",
            "_view_module_version": "1.2.0",
            "_view_name": "StyleView",
            "description_width": ""
          }
        },
        "46eb26cade2a41c7bb085127c5e27c8d": {
          "model_module": "@jupyter-widgets/controls",
          "model_name": "HBoxModel",
          "model_module_version": "1.5.0",
          "state": {
            "_dom_classes": [],
            "_model_module": "@jupyter-widgets/controls",
            "_model_module_version": "1.5.0",
            "_model_name": "HBoxModel",
            "_view_count": null,
            "_view_module": "@jupyter-widgets/controls",
            "_view_module_version": "1.5.0",
            "_view_name": "HBoxView",
            "box_style": "",
            "children": [
              "IPY_MODEL_54fc6737ee5447b192fd8c91cbfe1ad2",
              "IPY_MODEL_a1931a02a44940b6bf21659150c1afaa",
              "IPY_MODEL_a07a7427fefd46289b3b1d892a692bf3"
            ],
            "layout": "IPY_MODEL_7abc0db1f3134877926045072942b15e"
          }
        },
        "54fc6737ee5447b192fd8c91cbfe1ad2": {
          "model_module": "@jupyter-widgets/controls",
          "model_name": "HTMLModel",
          "model_module_version": "1.5.0",
          "state": {
            "_dom_classes": [],
            "_model_module": "@jupyter-widgets/controls",
            "_model_module_version": "1.5.0",
            "_model_name": "HTMLModel",
            "_view_count": null,
            "_view_module": "@jupyter-widgets/controls",
            "_view_module_version": "1.5.0",
            "_view_name": "HTMLView",
            "description": "",
            "description_tooltip": null,
            "layout": "IPY_MODEL_61c6b1ae08d148e9bc0b3fced31447d1",
            "placeholder": "​",
            "style": "IPY_MODEL_0f992110c6874902b2ad7421b9505351",
            "value": "Downloading: 100%"
          }
        },
        "a1931a02a44940b6bf21659150c1afaa": {
          "model_module": "@jupyter-widgets/controls",
          "model_name": "FloatProgressModel",
          "model_module_version": "1.5.0",
          "state": {
            "_dom_classes": [],
            "_model_module": "@jupyter-widgets/controls",
            "_model_module_version": "1.5.0",
            "_model_name": "FloatProgressModel",
            "_view_count": null,
            "_view_module": "@jupyter-widgets/controls",
            "_view_module_version": "1.5.0",
            "_view_name": "ProgressView",
            "bar_style": "success",
            "description": "",
            "description_tooltip": null,
            "layout": "IPY_MODEL_2e39f599f9d84a5faa7a0b0b363964ed",
            "max": 711620333,
            "min": 0,
            "orientation": "horizontal",
            "style": "IPY_MODEL_948b889ce3884826988cb24be4b54af5",
            "value": 711620333
          }
        },
        "a07a7427fefd46289b3b1d892a692bf3": {
          "model_module": "@jupyter-widgets/controls",
          "model_name": "HTMLModel",
          "model_module_version": "1.5.0",
          "state": {
            "_dom_classes": [],
            "_model_module": "@jupyter-widgets/controls",
            "_model_module_version": "1.5.0",
            "_model_name": "HTMLModel",
            "_view_count": null,
            "_view_module": "@jupyter-widgets/controls",
            "_view_module_version": "1.5.0",
            "_view_name": "HTMLView",
            "description": "",
            "description_tooltip": null,
            "layout": "IPY_MODEL_66fc96150af342a2bf2088e15861e589",
            "placeholder": "​",
            "style": "IPY_MODEL_440fde0c0437499782f3192ed11ae2c7",
            "value": " 679M/679M [00:35&lt;00:00, 33.6MB/s]"
          }
        },
        "7abc0db1f3134877926045072942b15e": {
          "model_module": "@jupyter-widgets/base",
          "model_name": "LayoutModel",
          "model_module_version": "1.2.0",
          "state": {
            "_model_module": "@jupyter-widgets/base",
            "_model_module_version": "1.2.0",
            "_model_name": "LayoutModel",
            "_view_count": null,
            "_view_module": "@jupyter-widgets/base",
            "_view_module_version": "1.2.0",
            "_view_name": "LayoutView",
            "align_content": null,
            "align_items": null,
            "align_self": null,
            "border": null,
            "bottom": null,
            "display": null,
            "flex": null,
            "flex_flow": null,
            "grid_area": null,
            "grid_auto_columns": null,
            "grid_auto_flow": null,
            "grid_auto_rows": null,
            "grid_column": null,
            "grid_gap": null,
            "grid_row": null,
            "grid_template_areas": null,
            "grid_template_columns": null,
            "grid_template_rows": null,
            "height": null,
            "justify_content": null,
            "justify_items": null,
            "left": null,
            "margin": null,
            "max_height": null,
            "max_width": null,
            "min_height": null,
            "min_width": null,
            "object_fit": null,
            "object_position": null,
            "order": null,
            "overflow": null,
            "overflow_x": null,
            "overflow_y": null,
            "padding": null,
            "right": null,
            "top": null,
            "visibility": null,
            "width": null
          }
        },
        "61c6b1ae08d148e9bc0b3fced31447d1": {
          "model_module": "@jupyter-widgets/base",
          "model_name": "LayoutModel",
          "model_module_version": "1.2.0",
          "state": {
            "_model_module": "@jupyter-widgets/base",
            "_model_module_version": "1.2.0",
            "_model_name": "LayoutModel",
            "_view_count": null,
            "_view_module": "@jupyter-widgets/base",
            "_view_module_version": "1.2.0",
            "_view_name": "LayoutView",
            "align_content": null,
            "align_items": null,
            "align_self": null,
            "border": null,
            "bottom": null,
            "display": null,
            "flex": null,
            "flex_flow": null,
            "grid_area": null,
            "grid_auto_columns": null,
            "grid_auto_flow": null,
            "grid_auto_rows": null,
            "grid_column": null,
            "grid_gap": null,
            "grid_row": null,
            "grid_template_areas": null,
            "grid_template_columns": null,
            "grid_template_rows": null,
            "height": null,
            "justify_content": null,
            "justify_items": null,
            "left": null,
            "margin": null,
            "max_height": null,
            "max_width": null,
            "min_height": null,
            "min_width": null,
            "object_fit": null,
            "object_position": null,
            "order": null,
            "overflow": null,
            "overflow_x": null,
            "overflow_y": null,
            "padding": null,
            "right": null,
            "top": null,
            "visibility": null,
            "width": null
          }
        },
        "0f992110c6874902b2ad7421b9505351": {
          "model_module": "@jupyter-widgets/controls",
          "model_name": "DescriptionStyleModel",
          "model_module_version": "1.5.0",
          "state": {
            "_model_module": "@jupyter-widgets/controls",
            "_model_module_version": "1.5.0",
            "_model_name": "DescriptionStyleModel",
            "_view_count": null,
            "_view_module": "@jupyter-widgets/base",
            "_view_module_version": "1.2.0",
            "_view_name": "StyleView",
            "description_width": ""
          }
        },
        "2e39f599f9d84a5faa7a0b0b363964ed": {
          "model_module": "@jupyter-widgets/base",
          "model_name": "LayoutModel",
          "model_module_version": "1.2.0",
          "state": {
            "_model_module": "@jupyter-widgets/base",
            "_model_module_version": "1.2.0",
            "_model_name": "LayoutModel",
            "_view_count": null,
            "_view_module": "@jupyter-widgets/base",
            "_view_module_version": "1.2.0",
            "_view_name": "LayoutView",
            "align_content": null,
            "align_items": null,
            "align_self": null,
            "border": null,
            "bottom": null,
            "display": null,
            "flex": null,
            "flex_flow": null,
            "grid_area": null,
            "grid_auto_columns": null,
            "grid_auto_flow": null,
            "grid_auto_rows": null,
            "grid_column": null,
            "grid_gap": null,
            "grid_row": null,
            "grid_template_areas": null,
            "grid_template_columns": null,
            "grid_template_rows": null,
            "height": null,
            "justify_content": null,
            "justify_items": null,
            "left": null,
            "margin": null,
            "max_height": null,
            "max_width": null,
            "min_height": null,
            "min_width": null,
            "object_fit": null,
            "object_position": null,
            "order": null,
            "overflow": null,
            "overflow_x": null,
            "overflow_y": null,
            "padding": null,
            "right": null,
            "top": null,
            "visibility": null,
            "width": null
          }
        },
        "948b889ce3884826988cb24be4b54af5": {
          "model_module": "@jupyter-widgets/controls",
          "model_name": "ProgressStyleModel",
          "model_module_version": "1.5.0",
          "state": {
            "_model_module": "@jupyter-widgets/controls",
            "_model_module_version": "1.5.0",
            "_model_name": "ProgressStyleModel",
            "_view_count": null,
            "_view_module": "@jupyter-widgets/base",
            "_view_module_version": "1.2.0",
            "_view_name": "StyleView",
            "bar_color": null,
            "description_width": ""
          }
        },
        "66fc96150af342a2bf2088e15861e589": {
          "model_module": "@jupyter-widgets/base",
          "model_name": "LayoutModel",
          "model_module_version": "1.2.0",
          "state": {
            "_model_module": "@jupyter-widgets/base",
            "_model_module_version": "1.2.0",
            "_model_name": "LayoutModel",
            "_view_count": null,
            "_view_module": "@jupyter-widgets/base",
            "_view_module_version": "1.2.0",
            "_view_name": "LayoutView",
            "align_content": null,
            "align_items": null,
            "align_self": null,
            "border": null,
            "bottom": null,
            "display": null,
            "flex": null,
            "flex_flow": null,
            "grid_area": null,
            "grid_auto_columns": null,
            "grid_auto_flow": null,
            "grid_auto_rows": null,
            "grid_column": null,
            "grid_gap": null,
            "grid_row": null,
            "grid_template_areas": null,
            "grid_template_columns": null,
            "grid_template_rows": null,
            "height": null,
            "justify_content": null,
            "justify_items": null,
            "left": null,
            "margin": null,
            "max_height": null,
            "max_width": null,
            "min_height": null,
            "min_width": null,
            "object_fit": null,
            "object_position": null,
            "order": null,
            "overflow": null,
            "overflow_x": null,
            "overflow_y": null,
            "padding": null,
            "right": null,
            "top": null,
            "visibility": null,
            "width": null
          }
        },
        "440fde0c0437499782f3192ed11ae2c7": {
          "model_module": "@jupyter-widgets/controls",
          "model_name": "DescriptionStyleModel",
          "model_module_version": "1.5.0",
          "state": {
            "_model_module": "@jupyter-widgets/controls",
            "_model_module_version": "1.5.0",
            "_model_name": "DescriptionStyleModel",
            "_view_count": null,
            "_view_module": "@jupyter-widgets/base",
            "_view_module_version": "1.2.0",
            "_view_name": "StyleView",
            "description_width": ""
          }
        }
      }
    }
  },
  "cells": [
    {
      "cell_type": "markdown",
      "metadata": {
        "id": "view-in-github",
        "colab_type": "text"
      },
      "source": [
        "<a href=\"MKaan_Model_evaluation.ipynb\" target=\"_parent\"><img src=\"https://colab.research.google.com/assets/colab-badge.svg\" alt=\"Open In Colab\"/></a>"
      ]
    },
    {
      "cell_type": "code",
      "source": [
        "import pandas as pd\n",
        "from sklearn.preprocessing import MultiLabelBinarizer\n"
      ],
      "metadata": {
        "id": "QOMbo-YvzxW0"
      },
      "execution_count": 1,
      "outputs": []
    },
    {
      "cell_type": "markdown",
      "source": [
        "# Data preparation"
      ],
      "metadata": {
        "id": "_V7ars6WxrbQ"
      }
    },
    {
      "cell_type": "code",
      "source": [
        "# Let's us read the input data\n",
        "dftest = pd.read_csv('test.csv')\n",
        "\n",
        "dftest = dftest.astype(str)\n",
        "\n",
        "dftest.head()\n"
      ],
      "metadata": {
        "colab": {
          "base_uri": "https://localhost:8080/",
          "height": 206
        },
        "id": "4WYl2oz8zYEM",
        "outputId": "5d9ee45c-428f-4db5-fc94-0b4c8f1e81ae"
      },
      "execution_count": 6,
      "outputs": [
        {
          "output_type": "execute_result",
          "data": {
            "text/plain": [
              "                                         descripcion  \\\n",
              "0  \"servicios de actuaciones musicales en las fie...   \n",
              "1  \"Suministro, con montaje e instalación incluid...   \n",
              "2  \"Concurso extraordinario para el transporte y ...   \n",
              "3  \"Servicio de Agencia de Viajes para la Univers...   \n",
              "4  \"Servicios auxiliares de las dependencias de l...   \n",
              "\n",
              "                                   CPV  \n",
              "0           92312120,92312130,92312140  \n",
              "1                             42513000  \n",
              "2  60160000,60000000,60100000,60161000  \n",
              "3                             63510000  \n",
              "4                    98341120,71326000  "
            ],
            "text/html": [
              "\n",
              "  <div id=\"df-59cf06be-7316-47c5-85dd-bcd59d5959e7\">\n",
              "    <div class=\"colab-df-container\">\n",
              "      <div>\n",
              "<style scoped>\n",
              "    .dataframe tbody tr th:only-of-type {\n",
              "        vertical-align: middle;\n",
              "    }\n",
              "\n",
              "    .dataframe tbody tr th {\n",
              "        vertical-align: top;\n",
              "    }\n",
              "\n",
              "    .dataframe thead th {\n",
              "        text-align: right;\n",
              "    }\n",
              "</style>\n",
              "<table border=\"1\" class=\"dataframe\">\n",
              "  <thead>\n",
              "    <tr style=\"text-align: right;\">\n",
              "      <th></th>\n",
              "      <th>descripcion</th>\n",
              "      <th>CPV</th>\n",
              "    </tr>\n",
              "  </thead>\n",
              "  <tbody>\n",
              "    <tr>\n",
              "      <th>0</th>\n",
              "      <td>\"servicios de actuaciones musicales en las fie...</td>\n",
              "      <td>92312120,92312130,92312140</td>\n",
              "    </tr>\n",
              "    <tr>\n",
              "      <th>1</th>\n",
              "      <td>\"Suministro, con montaje e instalación incluid...</td>\n",
              "      <td>42513000</td>\n",
              "    </tr>\n",
              "    <tr>\n",
              "      <th>2</th>\n",
              "      <td>\"Concurso extraordinario para el transporte y ...</td>\n",
              "      <td>60160000,60000000,60100000,60161000</td>\n",
              "    </tr>\n",
              "    <tr>\n",
              "      <th>3</th>\n",
              "      <td>\"Servicio de Agencia de Viajes para la Univers...</td>\n",
              "      <td>63510000</td>\n",
              "    </tr>\n",
              "    <tr>\n",
              "      <th>4</th>\n",
              "      <td>\"Servicios auxiliares de las dependencias de l...</td>\n",
              "      <td>98341120,71326000</td>\n",
              "    </tr>\n",
              "  </tbody>\n",
              "</table>\n",
              "</div>\n",
              "      <button class=\"colab-df-convert\" onclick=\"convertToInteractive('df-59cf06be-7316-47c5-85dd-bcd59d5959e7')\"\n",
              "              title=\"Convert this dataframe to an interactive table.\"\n",
              "              style=\"display:none;\">\n",
              "        \n",
              "  <svg xmlns=\"http://www.w3.org/2000/svg\" height=\"24px\"viewBox=\"0 0 24 24\"\n",
              "       width=\"24px\">\n",
              "    <path d=\"M0 0h24v24H0V0z\" fill=\"none\"/>\n",
              "    <path d=\"M18.56 5.44l.94 2.06.94-2.06 2.06-.94-2.06-.94-.94-2.06-.94 2.06-2.06.94zm-11 1L8.5 8.5l.94-2.06 2.06-.94-2.06-.94L8.5 2.5l-.94 2.06-2.06.94zm10 10l.94 2.06.94-2.06 2.06-.94-2.06-.94-.94-2.06-.94 2.06-2.06.94z\"/><path d=\"M17.41 7.96l-1.37-1.37c-.4-.4-.92-.59-1.43-.59-.52 0-1.04.2-1.43.59L10.3 9.45l-7.72 7.72c-.78.78-.78 2.05 0 2.83L4 21.41c.39.39.9.59 1.41.59.51 0 1.02-.2 1.41-.59l7.78-7.78 2.81-2.81c.8-.78.8-2.07 0-2.86zM5.41 20L4 18.59l7.72-7.72 1.47 1.35L5.41 20z\"/>\n",
              "  </svg>\n",
              "      </button>\n",
              "      \n",
              "  <style>\n",
              "    .colab-df-container {\n",
              "      display:flex;\n",
              "      flex-wrap:wrap;\n",
              "      gap: 12px;\n",
              "    }\n",
              "\n",
              "    .colab-df-convert {\n",
              "      background-color: #E8F0FE;\n",
              "      border: none;\n",
              "      border-radius: 50%;\n",
              "      cursor: pointer;\n",
              "      display: none;\n",
              "      fill: #1967D2;\n",
              "      height: 32px;\n",
              "      padding: 0 0 0 0;\n",
              "      width: 32px;\n",
              "    }\n",
              "\n",
              "    .colab-df-convert:hover {\n",
              "      background-color: #E2EBFA;\n",
              "      box-shadow: 0px 1px 2px rgba(60, 64, 67, 0.3), 0px 1px 3px 1px rgba(60, 64, 67, 0.15);\n",
              "      fill: #174EA6;\n",
              "    }\n",
              "\n",
              "    [theme=dark] .colab-df-convert {\n",
              "      background-color: #3B4455;\n",
              "      fill: #D2E3FC;\n",
              "    }\n",
              "\n",
              "    [theme=dark] .colab-df-convert:hover {\n",
              "      background-color: #434B5C;\n",
              "      box-shadow: 0px 1px 3px 1px rgba(0, 0, 0, 0.15);\n",
              "      filter: drop-shadow(0px 1px 2px rgba(0, 0, 0, 0.3));\n",
              "      fill: #FFFFFF;\n",
              "    }\n",
              "  </style>\n",
              "\n",
              "      <script>\n",
              "        const buttonEl =\n",
              "          document.querySelector('#df-59cf06be-7316-47c5-85dd-bcd59d5959e7 button.colab-df-convert');\n",
              "        buttonEl.style.display =\n",
              "          google.colab.kernel.accessAllowed ? 'block' : 'none';\n",
              "\n",
              "        async function convertToInteractive(key) {\n",
              "          const element = document.querySelector('#df-59cf06be-7316-47c5-85dd-bcd59d5959e7');\n",
              "          const dataTable =\n",
              "            await google.colab.kernel.invokeFunction('convertToInteractive',\n",
              "                                                     [key], {});\n",
              "          if (!dataTable) return;\n",
              "\n",
              "          const docLinkHtml = 'Like what you see? Visit the ' +\n",
              "            '<a target=\"_blank\" href=https://colab.research.google.com/notebooks/data_table.ipynb>data table notebook</a>'\n",
              "            + ' to learn more about interactive tables.';\n",
              "          element.innerHTML = '';\n",
              "          dataTable['output_type'] = 'display_data';\n",
              "          await google.colab.output.renderOutput(dataTable, element);\n",
              "          const docLink = document.createElement('div');\n",
              "          docLink.innerHTML = docLinkHtml;\n",
              "          element.appendChild(docLink);\n",
              "        }\n",
              "      </script>\n",
              "    </div>\n",
              "  </div>\n",
              "  "
            ]
          },
          "metadata": {},
          "execution_count": 6
        }
      ]
    },
    {
      "cell_type": "code",
      "source": [
        "# We delete instances without any CPV\n",
        "\n",
        "dftest = dftest.loc[~dftest[\"CPV\"].str.contains(\"na\")]\n"
      ],
      "metadata": {
        "id": "LhgjfmTmKyOA"
      },
      "execution_count": 7,
      "outputs": []
    },
    {
      "cell_type": "code",
      "source": [
        "# We transform the class column for multilabel purposes and take the first two digits\n",
        "dfytest = []\n",
        "for ind,row in dftest.iterrows():\n",
        "  dfytest.append(list(set([x[0:2] for x in dftest.at[ind,'CPV'].split(\",\")])))\n"
      ],
      "metadata": {
        "id": "vinkZPYItet0"
      },
      "execution_count": 8,
      "outputs": []
    },
    {
      "cell_type": "code",
      "source": [
        "mlbin = MultiLabelBinarizer()\n",
        "y_test = mlbin.fit_transform(dfytest)"
      ],
      "metadata": {
        "id": "ZIuMjFBcxb_Z"
      },
      "execution_count": 9,
      "outputs": []
    },
    {
      "cell_type": "code",
      "source": [
        "print(mlbin.classes_)\n",
        "labels = mlbin.classes_"
      ],
      "metadata": {
        "colab": {
          "base_uri": "https://localhost:8080/"
        },
        "id": "yA2XpZiUJRxc",
        "outputId": "cd5f5a25-7422-4fdb-9e20-2017b8ec8c27"
      },
      "execution_count": 10,
      "outputs": [
        {
          "output_type": "stream",
          "name": "stdout",
          "text": [
            "['03' '09' '14' '15' '16' '18' '19' '22' '24' '30' '31' '32' '33' '34'\n",
            " '35' '37' '38' '39' '41' '42' '43' '44' '45' '48' '50' '51' '55' '60'\n",
            " '63' '64' '65' '66' '70' '71' '72' '73' '75' '76' '77' '79' '80' '85'\n",
            " '90' '92' '98']\n"
          ]
        }
      ]
    },
    {
      "cell_type": "code",
      "source": [
        "y_test.shape"
      ],
      "metadata": {
        "colab": {
          "base_uri": "https://localhost:8080/"
        },
        "id": "Eh-ya32v0kaU",
        "outputId": "8c878c41-24e2-45a2-c312-40309aa725e2"
      },
      "execution_count": 11,
      "outputs": [
        {
          "output_type": "execute_result",
          "data": {
            "text/plain": [
              "(69868, 45)"
            ]
          },
          "metadata": {},
          "execution_count": 11
        }
      ]
    },
    {
      "cell_type": "code",
      "source": [
        "X_test = dftest['descripcion']"
      ],
      "metadata": {
        "id": "JbbwCXtUNv0G"
      },
      "execution_count": 12,
      "outputs": []
    },
    {
      "cell_type": "markdown",
      "source": [
        "# Transformers\n"
      ],
      "metadata": {
        "id": "p7qJRlF4zt0z"
      }
    },
    {
      "cell_type": "code",
      "source": [
        "!pip install transformers"
      ],
      "metadata": {
        "colab": {
          "base_uri": "https://localhost:8080/"
        },
        "id": "8l9LDfuNzTDH",
        "outputId": "efd014c9-93f3-4750-e609-046a106b20bc"
      },
      "execution_count": 13,
      "outputs": [
        {
          "output_type": "stream",
          "name": "stdout",
          "text": [
            "Collecting transformers\n",
            "  Downloading transformers-4.17.0-py3-none-any.whl (3.8 MB)\n",
            "\u001b[K     |████████████████████████████████| 3.8 MB 5.3 MB/s \n",
            "\u001b[?25hCollecting huggingface-hub<1.0,>=0.1.0\n",
            "  Downloading huggingface_hub-0.4.0-py3-none-any.whl (67 kB)\n",
            "\u001b[K     |████████████████████████████████| 67 kB 5.4 MB/s \n",
            "\u001b[?25hRequirement already satisfied: importlib-metadata in /usr/local/lib/python3.7/dist-packages (from transformers) (4.11.3)\n",
            "Requirement already satisfied: packaging>=20.0 in /usr/local/lib/python3.7/dist-packages (from transformers) (21.3)\n",
            "Collecting tokenizers!=0.11.3,>=0.11.1\n",
            "  Downloading tokenizers-0.11.6-cp37-cp37m-manylinux_2_12_x86_64.manylinux2010_x86_64.whl (6.5 MB)\n",
            "\u001b[K     |████████████████████████████████| 6.5 MB 34.7 MB/s \n",
            "\u001b[?25hRequirement already satisfied: tqdm>=4.27 in /usr/local/lib/python3.7/dist-packages (from transformers) (4.63.0)\n",
            "Collecting sacremoses\n",
            "  Downloading sacremoses-0.0.49-py3-none-any.whl (895 kB)\n",
            "\u001b[K     |████████████████████████████████| 895 kB 38.3 MB/s \n",
            "\u001b[?25hCollecting pyyaml>=5.1\n",
            "  Downloading PyYAML-6.0-cp37-cp37m-manylinux_2_5_x86_64.manylinux1_x86_64.manylinux_2_12_x86_64.manylinux2010_x86_64.whl (596 kB)\n",
            "\u001b[K     |████████████████████████████████| 596 kB 32.2 MB/s \n",
            "\u001b[?25hRequirement already satisfied: numpy>=1.17 in /usr/local/lib/python3.7/dist-packages (from transformers) (1.21.5)\n",
            "Requirement already satisfied: regex!=2019.12.17 in /usr/local/lib/python3.7/dist-packages (from transformers) (2019.12.20)\n",
            "Requirement already satisfied: filelock in /usr/local/lib/python3.7/dist-packages (from transformers) (3.6.0)\n",
            "Requirement already satisfied: requests in /usr/local/lib/python3.7/dist-packages (from transformers) (2.23.0)\n",
            "Requirement already satisfied: typing-extensions>=3.7.4.3 in /usr/local/lib/python3.7/dist-packages (from huggingface-hub<1.0,>=0.1.0->transformers) (3.10.0.2)\n",
            "Requirement already satisfied: pyparsing!=3.0.5,>=2.0.2 in /usr/local/lib/python3.7/dist-packages (from packaging>=20.0->transformers) (3.0.7)\n",
            "Requirement already satisfied: zipp>=0.5 in /usr/local/lib/python3.7/dist-packages (from importlib-metadata->transformers) (3.7.0)\n",
            "Requirement already satisfied: urllib3!=1.25.0,!=1.25.1,<1.26,>=1.21.1 in /usr/local/lib/python3.7/dist-packages (from requests->transformers) (1.24.3)\n",
            "Requirement already satisfied: certifi>=2017.4.17 in /usr/local/lib/python3.7/dist-packages (from requests->transformers) (2021.10.8)\n",
            "Requirement already satisfied: idna<3,>=2.5 in /usr/local/lib/python3.7/dist-packages (from requests->transformers) (2.10)\n",
            "Requirement already satisfied: chardet<4,>=3.0.2 in /usr/local/lib/python3.7/dist-packages (from requests->transformers) (3.0.4)\n",
            "Requirement already satisfied: click in /usr/local/lib/python3.7/dist-packages (from sacremoses->transformers) (7.1.2)\n",
            "Requirement already satisfied: six in /usr/local/lib/python3.7/dist-packages (from sacremoses->transformers) (1.15.0)\n",
            "Requirement already satisfied: joblib in /usr/local/lib/python3.7/dist-packages (from sacremoses->transformers) (1.1.0)\n",
            "Installing collected packages: pyyaml, tokenizers, sacremoses, huggingface-hub, transformers\n",
            "  Attempting uninstall: pyyaml\n",
            "    Found existing installation: PyYAML 3.13\n",
            "    Uninstalling PyYAML-3.13:\n",
            "      Successfully uninstalled PyYAML-3.13\n",
            "Successfully installed huggingface-hub-0.4.0 pyyaml-6.0 sacremoses-0.0.49 tokenizers-0.11.6 transformers-4.17.0\n"
          ]
        }
      ]
    },
    {
      "cell_type": "code",
      "execution_count": 14,
      "metadata": {
        "id": "JP8m_CGdzHn_",
        "colab": {
          "base_uri": "https://localhost:8080/",
          "height": 301,
          "referenced_widgets": [
            "f078a3f5d0c34da08b439f81d35c995b",
            "02e420ca2764400e9ea7179fc8e42e98",
            "4696560227ec4f199d94c444577f5694",
            "3fd201bba752447a94ca4a926298f023",
            "9e5a27c1589a47299187324b487f40b6",
            "7269c1e8193041e0b5f8f4f83d053057",
            "d017492e32c4485e9ba6c372b7debf04",
            "22c56a46c7fe4e77b62698777d8176c3",
            "bb53a9349aed420d8ecb488ea1d9be96",
            "0158b6107fba4dbeb904d40606c2b6da",
            "178ae3e9e5ca45d3ae79df60d0017c16",
            "3bd024cbac1d426db8e10efdfb04760c",
            "a45cc64df313479d87d7a879f0b9ceb4",
            "3446d83b9a58446c9354a82eb054965c",
            "399bc229eb70470a86a9a06911b88f55",
            "fe354164b5e547e1927212674b3e0ad6",
            "6b5c4c584fd54cc3922e7107be2a73bd",
            "f08ffb2f685d4bb286064c7a70d69285",
            "e1256794cb544a24b4fc0568f2f3b428",
            "b6c00e679ad64654b8c07bdb28450fbe",
            "efa379685aaf4f33a1f2c7586b69558a",
            "87a9fb6ada4e49a0b462976968effb97",
            "46eb26cade2a41c7bb085127c5e27c8d",
            "54fc6737ee5447b192fd8c91cbfe1ad2",
            "a1931a02a44940b6bf21659150c1afaa",
            "a07a7427fefd46289b3b1d892a692bf3",
            "7abc0db1f3134877926045072942b15e",
            "61c6b1ae08d148e9bc0b3fced31447d1",
            "0f992110c6874902b2ad7421b9505351",
            "2e39f599f9d84a5faa7a0b0b363964ed",
            "948b889ce3884826988cb24be4b54af5",
            "66fc96150af342a2bf2088e15861e589",
            "440fde0c0437499782f3192ed11ae2c7"
          ]
        },
        "outputId": "01d1a379-48fb-435c-cc2a-dc252d684b7b"
      },
      "outputs": [
        {
          "output_type": "display_data",
          "data": {
            "text/plain": [
              "Downloading:   0%|          | 0.00/7.69k [00:00<?, ?B/s]"
            ],
            "application/vnd.jupyter.widget-view+json": {
              "version_major": 2,
              "version_minor": 0,
              "model_id": "f078a3f5d0c34da08b439f81d35c995b"
            }
          },
          "metadata": {}
        },
        {
          "output_type": "display_data",
          "data": {
            "text/plain": [
              "Downloading:   0%|          | 0.00/1.87M [00:00<?, ?B/s]"
            ],
            "application/vnd.jupyter.widget-view+json": {
              "version_major": 2,
              "version_minor": 0,
              "model_id": "3bd024cbac1d426db8e10efdfb04760c"
            }
          },
          "metadata": {}
        },
        {
          "output_type": "display_data",
          "data": {
            "text/plain": [
              "Downloading:   0%|          | 0.00/679M [00:00<?, ?B/s]"
            ],
            "application/vnd.jupyter.widget-view+json": {
              "version_major": 2,
              "version_minor": 0,
              "model_id": "46eb26cade2a41c7bb085127c5e27c8d"
            }
          },
          "metadata": {}
        }
      ],
      "source": [
        "from transformers import AutoTokenizer, AutoModelForSequenceClassification\n",
        "\n",
        "tokenizer = AutoTokenizer.from_pretrained(\"MKaan/multilingual-cpv-sector-classifier\")\n",
        "\n",
        "model = AutoModelForSequenceClassification.from_pretrained(\"MKaan/multilingual-cpv-sector-classifier\")"
      ]
    },
    {
      "cell_type": "code",
      "source": [
        "import torch\n",
        "\n",
        "input = torch.tensor([tokenizer.encode(\"Servicio para la elaboración de un inventario de elementos de comunicaciones de red de área local y espacios docentes en sedes docentes de Cataluña\")])"
      ],
      "metadata": {
        "id": "Mc3la0nK0Jr8"
      },
      "execution_count": 15,
      "outputs": []
    },
    {
      "cell_type": "code",
      "source": [
        "input = tokenizer(\"Servicio para la elaboración de un inventario de elementos de comunicaciones de red de área local y espacios docentes en sedes docentes de Cataluña\", return_tensors=\"pt\")"
      ],
      "metadata": {
        "id": "3kTRQVqM_eJI"
      },
      "execution_count": 16,
      "outputs": []
    },
    {
      "cell_type": "code",
      "source": [
        "outputs = model(**input)\n",
        "print(outputs)"
      ],
      "metadata": {
        "colab": {
          "base_uri": "https://localhost:8080/"
        },
        "id": "RrcO_bpP1UpZ",
        "outputId": "3e3a879a-1c24-4aaa-e708-7cdf1fc00275"
      },
      "execution_count": 17,
      "outputs": [
        {
          "output_type": "stream",
          "name": "stdout",
          "text": [
            "SequenceClassifierOutput(loss=None, logits=tensor([[ 0.7655, -2.5429, -1.1729, -3.8723,  6.2260,  3.1868, -2.4583, -3.0234,\n",
            "         -2.5327, -1.3344, -0.1546, -1.5412,  0.2152, -2.9852, -3.2581, -1.9709,\n",
            "         -0.5164, -2.9679,  5.3111, -1.3158,  1.6531,  0.9305, -3.3799, -3.2194,\n",
            "         -1.3017, -3.4318, -4.6082, -0.6071,  1.3534, -0.9763,  1.0156, -1.6118,\n",
            "          1.4107,  1.1752, -0.5273, -0.5253,  3.4475,  2.2450, -0.1822, -0.7198,\n",
            "          1.0854,  1.5528,  0.5950, -0.2185, -1.0718]],\n",
            "       grad_fn=<AddmmBackward0>), hidden_states=None, attentions=None)\n"
          ]
        }
      ]
    },
    {
      "cell_type": "code",
      "source": [
        "logits = outputs.logits\n",
        "\n",
        "import torch.nn.functional as F \n",
        "\n",
        "sm = F.softmax(logits)\n",
        "sm = sm.detach().numpy()[0]\n",
        "\n",
        "print(list(sm))"
      ],
      "metadata": {
        "colab": {
          "base_uri": "https://localhost:8080/"
        },
        "id": "cpsogNH477Ke",
        "outputId": "ffe22cd8-718b-4c29-f756-d6bb2e8d5829"
      },
      "execution_count": 18,
      "outputs": [
        {
          "output_type": "stream",
          "name": "stdout",
          "text": [
            "[0.0026339847, 9.633947e-05, 0.0003791428, 2.5493724e-05, 0.61957586, 0.029659767, 0.000104845225, 5.9585556e-05, 9.732349e-05, 0.00032260251, 0.0010495794, 0.00026232802, 0.0015193208, 6.1904124e-05, 4.711803e-05, 0.00017069961, 0.00073097815, 6.298292e-05, 0.24817684, 0.00032865122, 0.0063989772, 0.0031066379, 4.1715804e-05, 4.8976126e-05, 0.0003333028, 3.9603907e-05, 1.2214397e-05, 0.0006676085, 0.004742011, 0.00046150142, 0.0033825561, 0.0002444299, 0.005021444, 0.0039679823, 0.0007230558, 0.00072452886, 0.038494468, 0.011565763, 0.0010210106, 0.00059642154, 0.003627185, 0.005788006, 0.002221079, 0.0009846805, 0.0004194577]\n"
          ]
        },
        {
          "output_type": "stream",
          "name": "stderr",
          "text": [
            "/usr/local/lib/python3.7/dist-packages/ipykernel_launcher.py:5: UserWarning: Implicit dimension choice for softmax has been deprecated. Change the call to include dim=X as an argument.\n",
            "  \"\"\"\n"
          ]
        }
      ]
    },
    {
      "cell_type": "code",
      "source": [
        "clases = [\"75\",\"16\",\"3\",\"77\",\"71\",\"79\",\"24\",\"18\",\"41\",\"44\",\"45\",\"80\",\"31\",\"66\",\"15\",\"39\",\"85\",\"55\",\"42\",\"51\",\"72\",\"38\",\"19\",\"43\",\"33\",\"14\",\"37\",\"30\",\"98\",\"9\",\"64\",\"22\",\"65\",\"32\",\"70\",\"92\",\"50\",\"73\",\"35\",\"76\",\"90\",\"48\",\"63\",\"34\",\"60\"]"
      ],
      "metadata": {
        "id": "5TaWwSMA9B7i"
      },
      "execution_count": 19,
      "outputs": []
    },
    {
      "cell_type": "markdown",
      "source": [
        "# Evaluation\n"
      ],
      "metadata": {
        "id": "_2L937f8FLfd"
      }
    },
    {
      "cell_type": "code",
      "source": [
        "ypred = []\n",
        "\n",
        "row = X_test.iloc[0]\n",
        "input = torch.tensor([tokenizer.encode(row)])\n",
        "outputs = model(input)\n",
        "logits = outputs.logits\n",
        "sm = F.softmax(logits)\n",
        "sm = sm.detach().numpy()[0]\n",
        "ypred.append(sm)\n",
        "#list(sm)\n",
        "\n",
        "row = X_test.iloc[1]\n",
        "input = torch.tensor([tokenizer.encode(row)])\n",
        "outputs = model(input)\n",
        "logits = outputs.logits\n",
        "sm = F.softmax(logits)\n",
        "sm = sm.detach().numpy()[0]\n",
        "ypred.append(sm)\n",
        "\n",
        "print(ypred)"
      ],
      "metadata": {
        "colab": {
          "base_uri": "https://localhost:8080/"
        },
        "id": "T85s31kGIrnS",
        "outputId": "f7ca80a4-6fe4-4c06-e26b-9f279593f1c2"
      },
      "execution_count": 20,
      "outputs": [
        {
          "output_type": "stream",
          "name": "stderr",
          "text": [
            "/usr/local/lib/python3.7/dist-packages/ipykernel_launcher.py:7: UserWarning: Implicit dimension choice for softmax has been deprecated. Change the call to include dim=X as an argument.\n",
            "  import sys\n"
          ]
        },
        {
          "output_type": "stream",
          "name": "stdout",
          "text": [
            "[array([2.04879721e-03, 1.34356351e-05, 3.33348144e-04, 2.50175453e-05,\n",
            "       5.98756829e-04, 2.45891549e-02, 3.39745093e-05, 3.01558048e-05,\n",
            "       6.55288095e-05, 2.97733131e-05, 8.45248986e-04, 2.97443965e-03,\n",
            "       1.20474113e-04, 7.22866389e-05, 1.19521919e-05, 1.54238252e-04,\n",
            "       1.52365386e-03, 6.47527515e-04, 5.75974002e-04, 3.76747776e-05,\n",
            "       1.72424875e-03, 3.06284128e-05, 3.90547066e-05, 1.05681771e-04,\n",
            "       2.25884760e-05, 3.98749617e-05, 5.47564938e-04, 3.77350043e-05,\n",
            "       5.16335433e-03, 2.27069650e-05, 3.49035341e-04, 2.81741726e-04,\n",
            "       3.50330432e-04, 5.65671595e-04, 4.62350174e-04, 9.52825189e-01,\n",
            "       1.10632041e-03, 1.01491562e-04, 7.08925436e-05, 6.78412398e-05,\n",
            "       1.02007696e-04, 1.95111206e-04, 9.54522693e-04, 3.00757019e-05,\n",
            "       7.24294805e-05], dtype=float32), array([2.2618393e-04, 5.8193051e-04, 1.9909407e-04, 1.1131687e-03,\n",
            "       5.6213484e-04, 2.8951181e-04, 2.6976105e-03, 1.8521062e-04,\n",
            "       1.2902126e-03, 5.1839058e-03, 5.3124219e-02, 3.2418512e-04,\n",
            "       3.3452166e-03, 5.1988725e-05, 3.6830157e-02, 2.5642186e-01,\n",
            "       5.6697801e-04, 8.6970953e-03, 4.3625605e-05, 5.8724272e-01,\n",
            "       4.2062625e-03, 5.0199889e-03, 5.1514263e-04, 1.9428770e-03,\n",
            "       1.8629627e-02, 1.5873495e-04, 3.7720281e-04, 5.5428571e-04,\n",
            "       6.5224670e-04, 5.3419691e-04, 8.3090104e-05, 6.7969297e-05,\n",
            "       2.1530177e-04, 2.5367105e-04, 3.2661561e-04, 1.0860437e-04,\n",
            "       2.6581064e-03, 1.5590750e-04, 4.6357265e-04, 8.7931796e-05,\n",
            "       1.9294089e-03, 2.8554397e-04, 1.2699899e-04, 1.5440512e-03,\n",
            "       1.2578758e-04], dtype=float32)]\n"
          ]
        },
        {
          "output_type": "stream",
          "name": "stderr",
          "text": [
            "/usr/local/lib/python3.7/dist-packages/ipykernel_launcher.py:16: UserWarning: Implicit dimension choice for softmax has been deprecated. Change the call to include dim=X as an argument.\n",
            "  app.launch_new_instance()\n"
          ]
        }
      ]
    },
    {
      "cell_type": "code",
      "source": [
        "import numpy as np\n",
        "ypred_softmax = []\n",
        "ypred_sigmoid = []\n",
        "\n",
        "sigmoid = torch.nn.Sigmoid()\n",
        "\n",
        "# softmax\n",
        "for row in X_test:\n",
        "  input = torch.tensor([tokenizer.encode(row)])\n",
        "  outputs = model(input)\n",
        "  logits = outputs.logits\n",
        "  \n",
        "  sm = F.softmax(logits)\n",
        "  sm = sm.detach().numpy()[0]\n",
        "  predictions = np.zeros(45)\n",
        "  predictions[np.where(sm >= 0.5)] = 1\n",
        "  ypred_softmax.append(predictions)\n",
        "\n",
        "  probs = sigmoid(logits.squeeze().cpu())\n",
        "  predictions = np.zeros(probs.shape)\n",
        "  predictions[np.where(probs >= 0.5)] = 1\n",
        "  ypred_sigmoid.append(predictions)\n",
        "\n",
        "ypred_softmax = np.array(ypred_softmax)\n",
        "ypred_sigmoid = np.array(ypred_sigmoid)"
      ],
      "metadata": {
        "colab": {
          "base_uri": "https://localhost:8080/"
        },
        "id": "nvKKTeq5FNpq",
        "outputId": "f9a6e261-bcd3-4e29-aaa6-ac0b749cd8ce"
      },
      "execution_count": 21,
      "outputs": [
        {
          "output_type": "stream",
          "name": "stderr",
          "text": [
            "/usr/local/lib/python3.7/dist-packages/ipykernel_launcher.py:13: UserWarning: Implicit dimension choice for softmax has been deprecated. Change the call to include dim=X as an argument.\n",
            "  del sys.path[0]\n"
          ]
        }
      ]
    },
    {
      "cell_type": "markdown",
      "source": [
        "We reorder the columns so they correspond to the ones by the MKaan model (that were in alphabetical order in English)."
      ],
      "metadata": {
        "id": "3yyKioMcahp7"
      }
    },
    {
      "cell_type": "code",
      "source": [
        "ypred_softmax = ypred_softmax[:, [2,29,25,14,1,7,22,31,6,27,12,33,24,43,38,26,21,15,8,18,23,9,10,41,36,19,17,44,42,30,32,13,34,4,20,37,0,39,3,5,11,16,40,35,28]]"
      ],
      "metadata": {
        "id": "rJWq3dz_uRVq"
      },
      "execution_count": 22,
      "outputs": []
    },
    {
      "cell_type": "code",
      "source": [
        "ypred_sigmoid = ypred_sigmoid[:, [2,29,25,14,1,7,22,31,6,27,12,33,24,43,38,26,21,15,8,18,23,9,10,41,36,19,17,44,42,30,32,13,34,4,20,37,0,39,3,5,11,16,40,35,28]]"
      ],
      "metadata": {
        "id": "5DSV18vYLtmB"
      },
      "execution_count": 23,
      "outputs": []
    },
    {
      "cell_type": "code",
      "source": [
        "\n",
        "ypred_sigmoid"
      ],
      "metadata": {
        "colab": {
          "base_uri": "https://localhost:8080/"
        },
        "id": "1w2Qdgxwueqt",
        "outputId": "c6b28fdc-1563-4c67-9404-1f28cda47462"
      },
      "execution_count": 24,
      "outputs": [
        {
          "output_type": "execute_result",
          "data": {
            "text/plain": [
              "array([[1., 0., 0., ..., 0., 1., 1.],\n",
              "       [0., 0., 0., ..., 1., 0., 0.],\n",
              "       [1., 0., 1., ..., 1., 0., 1.],\n",
              "       ...,\n",
              "       [0., 1., 0., ..., 1., 0., 1.],\n",
              "       [1., 1., 1., ..., 1., 1., 1.],\n",
              "       [0., 0., 0., ..., 1., 0., 1.]])"
            ]
          },
          "metadata": {},
          "execution_count": 24
        }
      ]
    },
    {
      "cell_type": "code",
      "source": [
        "from sklearn.metrics import f1_score, roc_auc_score, accuracy_score\n",
        "from sklearn.metrics import coverage_error\n",
        "from sklearn.metrics import label_ranking_average_precision_score\n",
        "    \n",
        "# source: https://jesusleal.io/2021/04/21/Longformer-multilabel-classification/\n",
        "def multi_label_metrics(ytest,y_pred):\n",
        "    # finally, compute metrics\n",
        "    y_true = ytest\n",
        "    f1_micro_average = f1_score(y_true=y_true, y_pred=y_pred, average='micro')\n",
        "    roc_auc = roc_auc_score(y_true, y_pred, average = 'micro')\n",
        "    accuracy = accuracy_score(y_true, y_pred)\n",
        "    coverage_err = coverage_error(y_test, y_pred)\n",
        "    label_ranking_average_precision = label_ranking_average_precision_score(y_test, y_pred)\n",
        "    # return as dictionary\n",
        "    metrics = {'f1': f1_micro_average,\n",
        "               'roc_auc': roc_auc,\n",
        "               'accuracy': accuracy,\n",
        "               'coverage_error': coverage_err,\n",
        "               'label_ranking_average_precision_score': label_ranking_average_precision}\n",
        "    return metrics"
      ],
      "metadata": {
        "id": "bGuMhAMOSX07"
      },
      "execution_count": 25,
      "outputs": []
    },
    {
      "cell_type": "code",
      "source": [
        "# softmax\n",
        "from sklearn.metrics import coverage_error\n",
        "from sklearn.metrics import label_ranking_average_precision_score\n",
        "\n",
        "print(f'mkaan softmax:')\t\n",
        "print(multi_label_metrics(y_test, ypred_softmax))\n"
      ],
      "metadata": {
        "colab": {
          "base_uri": "https://localhost:8080/"
        },
        "id": "B4M2ou8tM7fD",
        "outputId": "8cd7753d-7e61-44b1-c4a2-bb25c1ddc680"
      },
      "execution_count": 26,
      "outputs": [
        {
          "output_type": "stream",
          "name": "stdout",
          "text": [
            "mkaan softmax:\n",
            "{'f1': 0.6530256109509881, 'roc_auc': 0.7837627867536359, 'accuracy': 0.5970258201179367, 'coverage_error': 18.730863914810786, 'label_ranking_average_precision_score': 0.632987355112001}\n"
          ]
        }
      ]
    },
    {
      "cell_type": "code",
      "source": [
        "# sigmoid\n",
        "from sklearn.metrics import coverage_error\n",
        "from sklearn.metrics import label_ranking_average_precision_score\n",
        "\n",
        "print(f'mkaan sigmoid:')\t\n",
        "print(multi_label_metrics(y_test, ypred_sigmoid))"
      ],
      "metadata": {
        "colab": {
          "base_uri": "https://localhost:8080/"
        },
        "id": "_poB-8-mlm6G",
        "outputId": "0116e09a-3295-4f2d-d2d9-0435af75a0de"
      },
      "execution_count": 27,
      "outputs": [
        {
          "output_type": "stream",
          "name": "stdout",
          "text": [
            "mkaan sigmoid:\n",
            "{'f1': 0.12899101871837995, 'roc_auc': 0.8085513084401988, 'accuracy': 0.0, 'coverage_error': 17.182644415182917, 'label_ranking_average_precision_score': 0.07113382793028321}\n"
          ]
        }
      ]
    }
  ]
}
