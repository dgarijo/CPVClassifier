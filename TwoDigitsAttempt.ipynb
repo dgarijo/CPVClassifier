{
  "nbformat": 4,
  "nbformat_minor": 0,
  "metadata": {
    "colab": {
      "name": "TwoDigitsAttempt.ipynb",
      "provenance": [],
      "include_colab_link": true
    },
    "kernelspec": {
      "name": "python3",
      "display_name": "Python 3"
    },
    "language_info": {
      "name": "python"
    }
  },
  "cells": [
    {
      "cell_type": "code",
      "execution_count": null,
      "metadata": {
        "id": "jfZyocATxtuY",
        "colab": {
          "base_uri": "https://localhost:8080/"
        },
        "outputId": "c0b49034-345b-43a8-f38c-e08718fc46e5"
      },
      "outputs": [
        {
          "output_type": "stream",
          "name": "stdout",
          "text": [
            "[nltk_data] Downloading package stopwords to /root/nltk_data...\n",
            "[nltk_data]   Unzipping corpora/stopwords.zip.\n",
            "[nltk_data] Downloading package punkt to /root/nltk_data...\n",
            "[nltk_data]   Unzipping tokenizers/punkt.zip.\n"
          ]
        },
        {
          "output_type": "execute_result",
          "data": {
            "text/plain": [
              "True"
            ]
          },
          "metadata": {},
          "execution_count": 1
        }
      ],
      "source": [
        "#imports\n",
        "import pandas as pd\n",
        "from imblearn.pipeline import Pipeline, make_pipeline\n",
        "from sklearn.feature_extraction.text import CountVectorizer\n",
        "from sklearn.feature_extraction.text import TfidfVectorizer\n",
        "from imblearn.under_sampling import RandomUnderSampler\n",
        "from sklearn.preprocessing import MultiLabelBinarizer\n",
        "\n",
        "from sklearn.metrics import coverage_error\n",
        "from sklearn.metrics import label_ranking_average_precision_score\n",
        "\n",
        "\n",
        "from sklearn.tree import DecisionTreeClassifier\n",
        "from sklearn.svm import LinearSVC\n",
        "from sklearn import metrics\n",
        "from nltk import word_tokenize\n",
        "from sklearn.metrics import confusion_matrix\n",
        "from sklearn.metrics import multilabel_confusion_matrix\n",
        "import matplotlib.pyplot as plt\n",
        "\n",
        "import nltk\n",
        "nltk.download('stopwords')\n",
        "from nltk.corpus import stopwords\n",
        "nltk.download('punkt')"
      ]
    },
    {
      "cell_type": "markdown",
      "source": [
        "# Data preparation"
      ],
      "metadata": {
        "id": "_V7ars6WxrbQ"
      }
    },
    {
      "cell_type": "code",
      "source": [
        "# Let's us read the input data\n",
        "df = pd.read_csv('train.csv')\n",
        "dftest = pd.read_csv('test.csv')\n",
        "\n",
        "df = df.astype(str)\n",
        "dftest = dftest.astype(str)\n",
        "\n",
        "df.head()\n"
      ],
      "metadata": {
        "colab": {
          "base_uri": "https://localhost:8080/",
          "height": 206
        },
        "id": "4WYl2oz8zYEM",
        "outputId": "7db78976-fb47-4549-cb51-a6400ac3b918"
      },
      "execution_count": null,
      "outputs": [
        {
          "output_type": "execute_result",
          "data": {
            "text/plain": [
              "                                         descripcion  \\\n",
              "0  \"Contracte de subministrament per a l'adquisic...   \n",
              "1  \"Ejecución de obras de almacén en el CEIP San ...   \n",
              "2  \"Servicio para la elaboración de un inventario...   \n",
              "3  \"Reforma de la Instalación de Alumbrado Públic...   \n",
              "4  \"Mejora de la Accesibilidad del CEIP José Gil ...   \n",
              "\n",
              "                                                 CPV  \n",
              "0                                           35120000  \n",
              "1  45000000,45213220,45210000,45213000,45200000,4...  \n",
              "2                                  50312310,50330000  \n",
              "3                         45316000,45315600,45310000  \n",
              "4                                           45210000  "
            ],
            "text/html": [
              "\n",
              "  <div id=\"df-ddc28cc1-dc9e-4edf-949f-70dd4a3efe36\">\n",
              "    <div class=\"colab-df-container\">\n",
              "      <div>\n",
              "<style scoped>\n",
              "    .dataframe tbody tr th:only-of-type {\n",
              "        vertical-align: middle;\n",
              "    }\n",
              "\n",
              "    .dataframe tbody tr th {\n",
              "        vertical-align: top;\n",
              "    }\n",
              "\n",
              "    .dataframe thead th {\n",
              "        text-align: right;\n",
              "    }\n",
              "</style>\n",
              "<table border=\"1\" class=\"dataframe\">\n",
              "  <thead>\n",
              "    <tr style=\"text-align: right;\">\n",
              "      <th></th>\n",
              "      <th>descripcion</th>\n",
              "      <th>CPV</th>\n",
              "    </tr>\n",
              "  </thead>\n",
              "  <tbody>\n",
              "    <tr>\n",
              "      <th>0</th>\n",
              "      <td>\"Contracte de subministrament per a l'adquisic...</td>\n",
              "      <td>35120000</td>\n",
              "    </tr>\n",
              "    <tr>\n",
              "      <th>1</th>\n",
              "      <td>\"Ejecución de obras de almacén en el CEIP San ...</td>\n",
              "      <td>45000000,45213220,45210000,45213000,45200000,4...</td>\n",
              "    </tr>\n",
              "    <tr>\n",
              "      <th>2</th>\n",
              "      <td>\"Servicio para la elaboración de un inventario...</td>\n",
              "      <td>50312310,50330000</td>\n",
              "    </tr>\n",
              "    <tr>\n",
              "      <th>3</th>\n",
              "      <td>\"Reforma de la Instalación de Alumbrado Públic...</td>\n",
              "      <td>45316000,45315600,45310000</td>\n",
              "    </tr>\n",
              "    <tr>\n",
              "      <th>4</th>\n",
              "      <td>\"Mejora de la Accesibilidad del CEIP José Gil ...</td>\n",
              "      <td>45210000</td>\n",
              "    </tr>\n",
              "  </tbody>\n",
              "</table>\n",
              "</div>\n",
              "      <button class=\"colab-df-convert\" onclick=\"convertToInteractive('df-ddc28cc1-dc9e-4edf-949f-70dd4a3efe36')\"\n",
              "              title=\"Convert this dataframe to an interactive table.\"\n",
              "              style=\"display:none;\">\n",
              "        \n",
              "  <svg xmlns=\"http://www.w3.org/2000/svg\" height=\"24px\"viewBox=\"0 0 24 24\"\n",
              "       width=\"24px\">\n",
              "    <path d=\"M0 0h24v24H0V0z\" fill=\"none\"/>\n",
              "    <path d=\"M18.56 5.44l.94 2.06.94-2.06 2.06-.94-2.06-.94-.94-2.06-.94 2.06-2.06.94zm-11 1L8.5 8.5l.94-2.06 2.06-.94-2.06-.94L8.5 2.5l-.94 2.06-2.06.94zm10 10l.94 2.06.94-2.06 2.06-.94-2.06-.94-.94-2.06-.94 2.06-2.06.94z\"/><path d=\"M17.41 7.96l-1.37-1.37c-.4-.4-.92-.59-1.43-.59-.52 0-1.04.2-1.43.59L10.3 9.45l-7.72 7.72c-.78.78-.78 2.05 0 2.83L4 21.41c.39.39.9.59 1.41.59.51 0 1.02-.2 1.41-.59l7.78-7.78 2.81-2.81c.8-.78.8-2.07 0-2.86zM5.41 20L4 18.59l7.72-7.72 1.47 1.35L5.41 20z\"/>\n",
              "  </svg>\n",
              "      </button>\n",
              "      \n",
              "  <style>\n",
              "    .colab-df-container {\n",
              "      display:flex;\n",
              "      flex-wrap:wrap;\n",
              "      gap: 12px;\n",
              "    }\n",
              "\n",
              "    .colab-df-convert {\n",
              "      background-color: #E8F0FE;\n",
              "      border: none;\n",
              "      border-radius: 50%;\n",
              "      cursor: pointer;\n",
              "      display: none;\n",
              "      fill: #1967D2;\n",
              "      height: 32px;\n",
              "      padding: 0 0 0 0;\n",
              "      width: 32px;\n",
              "    }\n",
              "\n",
              "    .colab-df-convert:hover {\n",
              "      background-color: #E2EBFA;\n",
              "      box-shadow: 0px 1px 2px rgba(60, 64, 67, 0.3), 0px 1px 3px 1px rgba(60, 64, 67, 0.15);\n",
              "      fill: #174EA6;\n",
              "    }\n",
              "\n",
              "    [theme=dark] .colab-df-convert {\n",
              "      background-color: #3B4455;\n",
              "      fill: #D2E3FC;\n",
              "    }\n",
              "\n",
              "    [theme=dark] .colab-df-convert:hover {\n",
              "      background-color: #434B5C;\n",
              "      box-shadow: 0px 1px 3px 1px rgba(0, 0, 0, 0.15);\n",
              "      filter: drop-shadow(0px 1px 2px rgba(0, 0, 0, 0.3));\n",
              "      fill: #FFFFFF;\n",
              "    }\n",
              "  </style>\n",
              "\n",
              "      <script>\n",
              "        const buttonEl =\n",
              "          document.querySelector('#df-ddc28cc1-dc9e-4edf-949f-70dd4a3efe36 button.colab-df-convert');\n",
              "        buttonEl.style.display =\n",
              "          google.colab.kernel.accessAllowed ? 'block' : 'none';\n",
              "\n",
              "        async function convertToInteractive(key) {\n",
              "          const element = document.querySelector('#df-ddc28cc1-dc9e-4edf-949f-70dd4a3efe36');\n",
              "          const dataTable =\n",
              "            await google.colab.kernel.invokeFunction('convertToInteractive',\n",
              "                                                     [key], {});\n",
              "          if (!dataTable) return;\n",
              "\n",
              "          const docLinkHtml = 'Like what you see? Visit the ' +\n",
              "            '<a target=\"_blank\" href=https://colab.research.google.com/notebooks/data_table.ipynb>data table notebook</a>'\n",
              "            + ' to learn more about interactive tables.';\n",
              "          element.innerHTML = '';\n",
              "          dataTable['output_type'] = 'display_data';\n",
              "          await google.colab.output.renderOutput(dataTable, element);\n",
              "          const docLink = document.createElement('div');\n",
              "          docLink.innerHTML = docLinkHtml;\n",
              "          element.appendChild(docLink);\n",
              "        }\n",
              "      </script>\n",
              "    </div>\n",
              "  </div>\n",
              "  "
            ]
          },
          "metadata": {},
          "execution_count": 108
        }
      ]
    },
    {
      "cell_type": "code",
      "source": [
        "# We delete instances without any CPV\n",
        "\n",
        "df = df.loc[~df[\"CPV\"].str.contains(\"na\")]\n",
        "dftest = dftest.loc[~dftest[\"CPV\"].str.contains(\"na\")]\n"
      ],
      "metadata": {
        "id": "LhgjfmTmKyOA"
      },
      "execution_count": null,
      "outputs": []
    },
    {
      "cell_type": "code",
      "source": [
        "df.shape"
      ],
      "metadata": {
        "colab": {
          "base_uri": "https://localhost:8080/"
        },
        "id": "q7S6Ya8reB0z",
        "outputId": "47ebd833-ec2a-47d8-83bf-76b8d613470b"
      },
      "execution_count": null,
      "outputs": [
        {
          "output_type": "execute_result",
          "data": {
            "text/plain": [
              "(163080, 2)"
            ]
          },
          "metadata": {},
          "execution_count": 14
        }
      ]
    },
    {
      "cell_type": "code",
      "source": [
        "dftest.shape"
      ],
      "metadata": {
        "colab": {
          "base_uri": "https://localhost:8080/"
        },
        "id": "UQGsZEOO5vhW",
        "outputId": "ca99a26f-a260-4dff-e311-f8c58f3d42fb"
      },
      "execution_count": null,
      "outputs": [
        {
          "output_type": "execute_result",
          "data": {
            "text/plain": [
              "(69868, 2)"
            ]
          },
          "metadata": {},
          "execution_count": 15
        }
      ]
    },
    {
      "cell_type": "code",
      "source": [
        "#df = df.sample(frac=0.10, random_state=42)\n",
        "#dftest = dftest.sample(frac=0.10, random_state=42)"
      ],
      "metadata": {
        "id": "oWSuU51Rb5gz"
      },
      "execution_count": null,
      "outputs": []
    },
    {
      "cell_type": "code",
      "source": [
        "df.shape"
      ],
      "metadata": {
        "colab": {
          "base_uri": "https://localhost:8080/"
        },
        "id": "h6hR85X8eHf3",
        "outputId": "df0020b2-f989-444a-825c-86dbaa37079b"
      },
      "execution_count": null,
      "outputs": [
        {
          "output_type": "execute_result",
          "data": {
            "text/plain": [
              "(16308, 2)"
            ]
          },
          "metadata": {},
          "execution_count": 7
        }
      ]
    },
    {
      "cell_type": "code",
      "source": [
        "dftest.shape"
      ],
      "metadata": {
        "colab": {
          "base_uri": "https://localhost:8080/"
        },
        "id": "Yrd9HO9A5ywQ",
        "outputId": "c0ad10d5-f0ee-4214-cafb-be73bf1830ae"
      },
      "execution_count": null,
      "outputs": [
        {
          "output_type": "execute_result",
          "data": {
            "text/plain": [
              "(6987, 2)"
            ]
          },
          "metadata": {},
          "execution_count": 8
        }
      ]
    },
    {
      "cell_type": "code",
      "source": [
        "# We transform the class column for multilabel purposes and take the first two digits\n",
        "dfy = []\n",
        "for ind,row in df.iterrows():\n",
        "  dfy.append(list(set([x[0:2] for x in df.at[ind,'CPV'].split(\",\")])))\n",
        "\n",
        "\n",
        "dfytest = []\n",
        "for ind,row in dftest.iterrows():\n",
        "  dfytest.append(list(set([x[0:2] for x in dftest.at[ind,'CPV'].split(\",\")])))\n"
      ],
      "metadata": {
        "id": "vinkZPYItet0"
      },
      "execution_count": null,
      "outputs": []
    },
    {
      "cell_type": "code",
      "source": [
        "mlbin = MultiLabelBinarizer()\n",
        "y_train = mlbin.fit_transform(dfy)\n",
        "\n",
        "y_test = mlbin.transform(dfytest)"
      ],
      "metadata": {
        "id": "ZIuMjFBcxb_Z"
      },
      "execution_count": null,
      "outputs": []
    },
    {
      "cell_type": "code",
      "source": [
        "print(mlbin.classes_)\n",
        "labels = mlbin.classes_"
      ],
      "metadata": {
        "colab": {
          "base_uri": "https://localhost:8080/"
        },
        "id": "yA2XpZiUJRxc",
        "outputId": "9114ad91-8cc2-4343-8a90-e9278cb80987"
      },
      "execution_count": null,
      "outputs": [
        {
          "output_type": "stream",
          "name": "stdout",
          "text": [
            "['03' '09' '14' '15' '16' '18' '19' '22' '24' '30' '31' '32' '33' '34'\n",
            " '35' '37' '38' '39' '41' '42' '43' '44' '45' '48' '50' '51' '55' '60'\n",
            " '63' '64' '65' '66' '70' '71' '72' '73' '75' '76' '77' '79' '80' '85'\n",
            " '90' '92' '98']\n"
          ]
        }
      ]
    },
    {
      "cell_type": "code",
      "source": [
        "print(y_train)\n",
        "y_train.shape"
      ],
      "metadata": {
        "colab": {
          "base_uri": "https://localhost:8080/"
        },
        "id": "MkSSt2-dJBVa",
        "outputId": "752aec0c-ca89-408a-fabf-d78413d1f43c"
      },
      "execution_count": null,
      "outputs": [
        {
          "output_type": "stream",
          "name": "stdout",
          "text": [
            "[[0 0 0 ... 0 0 0]\n",
            " [0 0 0 ... 0 0 0]\n",
            " [0 0 0 ... 0 0 0]\n",
            " ...\n",
            " [0 0 0 ... 0 0 0]\n",
            " [0 0 0 ... 0 0 0]\n",
            " [0 0 0 ... 0 0 0]]\n"
          ]
        },
        {
          "output_type": "execute_result",
          "data": {
            "text/plain": [
              "(163080, 45)"
            ]
          },
          "metadata": {},
          "execution_count": 19
        }
      ]
    },
    {
      "cell_type": "code",
      "source": [
        "df['CPV2'] = dfy"
      ],
      "metadata": {
        "id": "oOEV9nu3BlXN"
      },
      "execution_count": null,
      "outputs": []
    },
    {
      "cell_type": "code",
      "source": [
        "df.head()"
      ],
      "metadata": {
        "colab": {
          "base_uri": "https://localhost:8080/",
          "height": 206
        },
        "id": "ZfjKs_PzHZQU",
        "outputId": "b3978dde-71a4-4cdd-faec-a2596ac9950e"
      },
      "execution_count": null,
      "outputs": [
        {
          "output_type": "execute_result",
          "data": {
            "text/plain": [
              "                                         descripcion  \\\n",
              "0  \"Contracte de subministrament per a l'adquisic...   \n",
              "1  \"Ejecución de obras de almacén en el CEIP San ...   \n",
              "2  \"Servicio para la elaboración de un inventario...   \n",
              "3  \"Reforma de la Instalación de Alumbrado Públic...   \n",
              "4  \"Mejora de la Accesibilidad del CEIP José Gil ...   \n",
              "\n",
              "                                                 CPV  CPV2  \n",
              "0                                           35120000  [35]  \n",
              "1  45000000,45213220,45210000,45213000,45200000,4...  [45]  \n",
              "2                                  50312310,50330000  [50]  \n",
              "3                         45316000,45315600,45310000  [45]  \n",
              "4                                           45210000  [45]  "
            ],
            "text/html": [
              "\n",
              "  <div id=\"df-31f4578a-0784-4bf4-9350-0f0c2b7fe1bf\">\n",
              "    <div class=\"colab-df-container\">\n",
              "      <div>\n",
              "<style scoped>\n",
              "    .dataframe tbody tr th:only-of-type {\n",
              "        vertical-align: middle;\n",
              "    }\n",
              "\n",
              "    .dataframe tbody tr th {\n",
              "        vertical-align: top;\n",
              "    }\n",
              "\n",
              "    .dataframe thead th {\n",
              "        text-align: right;\n",
              "    }\n",
              "</style>\n",
              "<table border=\"1\" class=\"dataframe\">\n",
              "  <thead>\n",
              "    <tr style=\"text-align: right;\">\n",
              "      <th></th>\n",
              "      <th>descripcion</th>\n",
              "      <th>CPV</th>\n",
              "      <th>CPV2</th>\n",
              "    </tr>\n",
              "  </thead>\n",
              "  <tbody>\n",
              "    <tr>\n",
              "      <th>0</th>\n",
              "      <td>\"Contracte de subministrament per a l'adquisic...</td>\n",
              "      <td>35120000</td>\n",
              "      <td>[35]</td>\n",
              "    </tr>\n",
              "    <tr>\n",
              "      <th>1</th>\n",
              "      <td>\"Ejecución de obras de almacén en el CEIP San ...</td>\n",
              "      <td>45000000,45213220,45210000,45213000,45200000,4...</td>\n",
              "      <td>[45]</td>\n",
              "    </tr>\n",
              "    <tr>\n",
              "      <th>2</th>\n",
              "      <td>\"Servicio para la elaboración de un inventario...</td>\n",
              "      <td>50312310,50330000</td>\n",
              "      <td>[50]</td>\n",
              "    </tr>\n",
              "    <tr>\n",
              "      <th>3</th>\n",
              "      <td>\"Reforma de la Instalación de Alumbrado Públic...</td>\n",
              "      <td>45316000,45315600,45310000</td>\n",
              "      <td>[45]</td>\n",
              "    </tr>\n",
              "    <tr>\n",
              "      <th>4</th>\n",
              "      <td>\"Mejora de la Accesibilidad del CEIP José Gil ...</td>\n",
              "      <td>45210000</td>\n",
              "      <td>[45]</td>\n",
              "    </tr>\n",
              "  </tbody>\n",
              "</table>\n",
              "</div>\n",
              "      <button class=\"colab-df-convert\" onclick=\"convertToInteractive('df-31f4578a-0784-4bf4-9350-0f0c2b7fe1bf')\"\n",
              "              title=\"Convert this dataframe to an interactive table.\"\n",
              "              style=\"display:none;\">\n",
              "        \n",
              "  <svg xmlns=\"http://www.w3.org/2000/svg\" height=\"24px\"viewBox=\"0 0 24 24\"\n",
              "       width=\"24px\">\n",
              "    <path d=\"M0 0h24v24H0V0z\" fill=\"none\"/>\n",
              "    <path d=\"M18.56 5.44l.94 2.06.94-2.06 2.06-.94-2.06-.94-.94-2.06-.94 2.06-2.06.94zm-11 1L8.5 8.5l.94-2.06 2.06-.94-2.06-.94L8.5 2.5l-.94 2.06-2.06.94zm10 10l.94 2.06.94-2.06 2.06-.94-2.06-.94-.94-2.06-.94 2.06-2.06.94z\"/><path d=\"M17.41 7.96l-1.37-1.37c-.4-.4-.92-.59-1.43-.59-.52 0-1.04.2-1.43.59L10.3 9.45l-7.72 7.72c-.78.78-.78 2.05 0 2.83L4 21.41c.39.39.9.59 1.41.59.51 0 1.02-.2 1.41-.59l7.78-7.78 2.81-2.81c.8-.78.8-2.07 0-2.86zM5.41 20L4 18.59l7.72-7.72 1.47 1.35L5.41 20z\"/>\n",
              "  </svg>\n",
              "      </button>\n",
              "      \n",
              "  <style>\n",
              "    .colab-df-container {\n",
              "      display:flex;\n",
              "      flex-wrap:wrap;\n",
              "      gap: 12px;\n",
              "    }\n",
              "\n",
              "    .colab-df-convert {\n",
              "      background-color: #E8F0FE;\n",
              "      border: none;\n",
              "      border-radius: 50%;\n",
              "      cursor: pointer;\n",
              "      display: none;\n",
              "      fill: #1967D2;\n",
              "      height: 32px;\n",
              "      padding: 0 0 0 0;\n",
              "      width: 32px;\n",
              "    }\n",
              "\n",
              "    .colab-df-convert:hover {\n",
              "      background-color: #E2EBFA;\n",
              "      box-shadow: 0px 1px 2px rgba(60, 64, 67, 0.3), 0px 1px 3px 1px rgba(60, 64, 67, 0.15);\n",
              "      fill: #174EA6;\n",
              "    }\n",
              "\n",
              "    [theme=dark] .colab-df-convert {\n",
              "      background-color: #3B4455;\n",
              "      fill: #D2E3FC;\n",
              "    }\n",
              "\n",
              "    [theme=dark] .colab-df-convert:hover {\n",
              "      background-color: #434B5C;\n",
              "      box-shadow: 0px 1px 3px 1px rgba(0, 0, 0, 0.15);\n",
              "      filter: drop-shadow(0px 1px 2px rgba(0, 0, 0, 0.3));\n",
              "      fill: #FFFFFF;\n",
              "    }\n",
              "  </style>\n",
              "\n",
              "      <script>\n",
              "        const buttonEl =\n",
              "          document.querySelector('#df-31f4578a-0784-4bf4-9350-0f0c2b7fe1bf button.colab-df-convert');\n",
              "        buttonEl.style.display =\n",
              "          google.colab.kernel.accessAllowed ? 'block' : 'none';\n",
              "\n",
              "        async function convertToInteractive(key) {\n",
              "          const element = document.querySelector('#df-31f4578a-0784-4bf4-9350-0f0c2b7fe1bf');\n",
              "          const dataTable =\n",
              "            await google.colab.kernel.invokeFunction('convertToInteractive',\n",
              "                                                     [key], {});\n",
              "          if (!dataTable) return;\n",
              "\n",
              "          const docLinkHtml = 'Like what you see? Visit the ' +\n",
              "            '<a target=\"_blank\" href=https://colab.research.google.com/notebooks/data_table.ipynb>data table notebook</a>'\n",
              "            + ' to learn more about interactive tables.';\n",
              "          element.innerHTML = '';\n",
              "          dataTable['output_type'] = 'display_data';\n",
              "          await google.colab.output.renderOutput(dataTable, element);\n",
              "          const docLink = document.createElement('div');\n",
              "          docLink.innerHTML = docLinkHtml;\n",
              "          element.appendChild(docLink);\n",
              "        }\n",
              "      </script>\n",
              "    </div>\n",
              "  </div>\n",
              "  "
            ]
          },
          "metadata": {},
          "execution_count": 21
        }
      ]
    },
    {
      "cell_type": "code",
      "source": [
        "from collections import Counter\n",
        "\n",
        "sorted_dict = dict( sorted(Counter([item for sublist in dfy for item in sublist]).items(),\n",
        "                           key=lambda item: item[1],\n",
        "                           reverse=True))\n",
        "print(sorted_dict)"
      ],
      "metadata": {
        "colab": {
          "base_uri": "https://localhost:8080/"
        },
        "id": "EE-KWY9oFe4S",
        "outputId": "732b149a-3b6b-48ce-d498-a8b82a9b6d97"
      },
      "execution_count": null,
      "outputs": [
        {
          "output_type": "stream",
          "name": "stdout",
          "text": [
            "{'45': 35361, '50': 13006, '79': 12579, '71': 9283, '72': 8404, '90': 7894, '34': 7643, '85': 7584, '92': 6870, '33': 5706, '44': 4947, '30': 4610, '55': 4468, '39': 4077, '48': 3969, '31': 3501, '60': 3356, '80': 3350, '09': 3189, '66': 3141, '42': 3098, '98': 2732, '38': 2645, '35': 2435, '32': 2215, '77': 2003, '18': 1970, '63': 1759, '15': 1750, '64': 1745, '03': 1307, '37': 1190, '24': 1160, '22': 1145, '51': 1064, '70': 883, '14': 862, '73': 600, '43': 595, '75': 575, '65': 465, '16': 362, '19': 301, '41': 97, '76': 31}\n"
          ]
        }
      ]
    },
    {
      "cell_type": "code",
      "source": [
        "from collections import Counter\n",
        "\n",
        "sorted_dicttest = dict( sorted(Counter([item for sublist in dfytest for item in sublist]).items(),\n",
        "                           key=lambda item: item[1],\n",
        "                           reverse=True))\n",
        "print(sorted_dicttest)"
      ],
      "metadata": {
        "colab": {
          "base_uri": "https://localhost:8080/"
        },
        "id": "BoguB-bO9KNP",
        "outputId": "10d24cd5-8b4e-4ecc-d6ca-1c93c17f0da2"
      },
      "execution_count": null,
      "outputs": [
        {
          "output_type": "stream",
          "name": "stdout",
          "text": [
            "{'45': 15066, '50': 5564, '79': 5502, '71': 4034, '72': 3661, '90': 3291, '34': 3264, '85': 3199, '92': 2870, '33': 2398, '44': 2111, '30': 2017, '55': 1847, '39': 1768, '48': 1706, '31': 1556, '60': 1478, '09': 1405, '80': 1383, '66': 1360, '42': 1345, '38': 1181, '98': 1134, '35': 1058, '32': 988, '18': 888, '77': 863, '15': 797, '64': 749, '63': 712, '03': 566, '37': 506, '22': 501, '24': 499, '51': 470, '70': 370, '14': 353, '73': 299, '75': 252, '43': 235, '65': 199, '16': 159, '19': 132, '41': 33, '76': 15}\n"
          ]
        }
      ]
    },
    {
      "cell_type": "code",
      "source": [
        "import matplotlib.pyplot as plt\n",
        "\n",
        "x_pos=range(40,46*40,40)\n",
        "bars = list(sorted_dict.keys())\n",
        "height = sorted_dict.values()\n",
        "\n",
        "plt.bar(x_pos, height, align='edge', width=25)\n",
        "plt.bar(x_pos, sorted_dicttest.values(), color='r', align='edge', width=25)\n",
        "\n",
        "plt.xlim(0,1500)\n",
        "\n",
        "#plt.gca().axes.get_xaxis().set_visible(False)\n",
        "\n",
        "plt.xticks(rotation='vertical',fontsize=8)\n",
        "\n",
        "plt.xticks(x_pos, bars)\n",
        "plt.savefig('plot.pdf')\n",
        "\n",
        "plt.show()\n",
        "\n"
      ],
      "metadata": {
        "colab": {
          "base_uri": "https://localhost:8080/",
          "height": 266
        },
        "id": "-JJQcFu_7h_T",
        "outputId": "683d0dab-51e8-4b0d-b4a1-f06aef70dc8b"
      },
      "execution_count": null,
      "outputs": [
        {
          "output_type": "display_data",
          "data": {
            "text/plain": [
              "<Figure size 432x288 with 1 Axes>"
            ],
            "image/png": "[encoded data removed]"
          },
          "metadata": {
            "needs_background": "light"
          }
        }
      ]
    },
    {
      "cell_type": "code",
      "source": [
        "y_train.shape"
      ],
      "metadata": {
        "colab": {
          "base_uri": "https://localhost:8080/"
        },
        "id": "uySNNoA3yfL3",
        "outputId": "3ee7f6b3-e532-4062-fff2-f2c10f325c35"
      },
      "execution_count": null,
      "outputs": [
        {
          "output_type": "execute_result",
          "data": {
            "text/plain": [
              "(16308, 45)"
            ]
          },
          "metadata": {},
          "execution_count": 15
        }
      ]
    },
    {
      "cell_type": "code",
      "source": [
        "y_test.shape"
      ],
      "metadata": {
        "colab": {
          "base_uri": "https://localhost:8080/"
        },
        "id": "Eh-ya32v0kaU",
        "outputId": "e8277402-5fcb-4ea0-c3b6-520fc6dc5108"
      },
      "execution_count": null,
      "outputs": [
        {
          "output_type": "execute_result",
          "data": {
            "text/plain": [
              "(6987, 45)"
            ]
          },
          "metadata": {},
          "execution_count": 16
        }
      ]
    },
    {
      "cell_type": "code",
      "source": [
        "X_train = df['descripcion']\n",
        "X_test = dftest['descripcion']\n",
        "X_train"
      ],
      "metadata": {
        "colab": {
          "base_uri": "https://localhost:8080/"
        },
        "id": "JbbwCXtUNv0G",
        "outputId": "1f6ef2d2-53ec-44ef-b6a6-a409373ac10a"
      },
      "execution_count": null,
      "outputs": [
        {
          "output_type": "execute_result",
          "data": {
            "text/plain": [
              "143131          \"Adquisición de un sistema de alta presión\"\n",
              "157894    \"Servicio de transporte adaptado de personas u...\n",
              "104629    \"Servicio de asistencia a personas mayores a c...\n",
              "91        \"Suministro de insignias de condecoraciones de...\n",
              "113864    \"Suministro de cestas de Navidad para los empl...\n",
              "                                ...                        \n",
              "104007    \"Obras de renovación de redes en Campohermoso,...\n",
              "54749     \"La obra consiste en la rehabilitación de una ...\n",
              "123422    \"Servicio de desarrollo e aplicaciones informá...\n",
              "14602     \"Acuerdo Marco para el suministro de vivieres ...\n",
              "56214          \"Gestión del Servicio de Matadero Municipal\"\n",
              "Name: descripcion, Length: 16308, dtype: object"
            ]
          },
          "metadata": {},
          "execution_count": 17
        }
      ]
    },
    {
      "cell_type": "markdown",
      "source": [
        "# Models"
      ],
      "metadata": {
        "id": "6ER4f-Jlzj3Z"
      }
    },
    {
      "cell_type": "code",
      "source": [
        "from sklearn.metrics import f1_score, roc_auc_score, accuracy_score\n",
        "from sklearn.metrics import coverage_error\n",
        "from sklearn.metrics import label_ranking_average_precision_score\n",
        "    \n",
        "# adapted from: https://jesusleal.io/2021/04/21/Longformer-multilabel-classification/\n",
        "def multi_label_metrics(ytest,y_pred):\n",
        "    # finally, compute metrics\n",
        "    y_true = ytest\n",
        "    f1_micro_average = f1_score(y_true=y_true, y_pred=y_pred, average='micro')\n",
        "    roc_auc = roc_auc_score(y_true, y_pred, average = 'micro')\n",
        "    accuracy = accuracy_score(y_true, y_pred)\n",
        "    coverage_err = coverage_error(y_test, y_pred)\n",
        "    label_ranking_average_precision = label_ranking_average_precision_score(y_test, y_pred)\n",
        "    # return as dictionary\n",
        "    metrics = {'f1': f1_micro_average,\n",
        "               'roc_auc': roc_auc,\n",
        "               'accuracy': accuracy,\n",
        "               'coverage_error': coverage_err,\n",
        "               'label_ranking_average_precision_score': label_ranking_average_precision}\n",
        "    return metrics"
      ],
      "metadata": {
        "id": "Ti1_48srKepn"
      },
      "execution_count": null,
      "outputs": []
    },
    {
      "cell_type": "code",
      "source": [
        "tfidf_tree = Pipeline([\n",
        "     ('vectorizer', TfidfVectorizer(ngram_range=(1,3),\n",
        "                                   analyzer=\"word\",\n",
        "                                   max_features=None,\n",
        "                                   stop_words=stopwords.words('spanish'),\n",
        "                                   use_idf=True,\n",
        "                                   lowercase=True)),\n",
        "    ('tree', DecisionTreeClassifier(random_state=42))\n",
        "])\n",
        "\n",
        "tfidf_tree.fit(X_train, y_train)\n",
        "ypred = tfidf_tree.predict(X_test)\n",
        "\n",
        "print(f'tfidf_tree:')\t\n",
        "\n",
        "print(multi_label_metrics(y_test, ypred))\n"
      ],
      "metadata": {
        "colab": {
          "base_uri": "https://localhost:8080/"
        },
        "id": "R994KBIu8sFK",
        "outputId": "1e6540de-1a26-404d-f41a-4ed124086392"
      },
      "execution_count": null,
      "outputs": [
        {
          "output_type": "stream",
          "name": "stdout",
          "text": [
            "tfidf_tree:\n",
            "{'f1': 0.5883642930856553, 'roc_auc': 0.7808739383012103, 'accuracy': 0.5654787462430227, 'coverage_error': 19.40389294403893, 'label_ranking_average_precision_score': 0.6030579517805906}\n"
          ]
        }
      ]
    },
    {
      "cell_type": "code",
      "source": [
        "from sklearn.neighbors import KNeighborsClassifier\n",
        "\n",
        "tfidf_knn = Pipeline([\n",
        "     ('vectorizer', TfidfVectorizer(ngram_range=(1,3),\n",
        "                                   analyzer=\"word\",\n",
        "                                   max_features=None,\n",
        "                                   stop_words=stopwords.words('spanish'),\n",
        "                                   use_idf=True,\n",
        "                                   lowercase=True)),\n",
        "    ('knn', KNeighborsClassifier(n_neighbors=5))\n",
        "])\n",
        "\n",
        "tfidf_knn.fit(X_train, y_train)\n",
        "ypred = tfidf_knn.predict(X_test)\n",
        "\n",
        "#ypredprob = tfidf_knn.predict_proba(X_test)\n",
        "#print(ypredprob)\n",
        "\n",
        "print(f'tfidf_knn:')\t\n",
        "print(multi_label_metrics(y_test, ypred))"
      ],
      "metadata": {
        "colab": {
          "base_uri": "https://localhost:8080/"
        },
        "id": "VXYCO5s240GP",
        "outputId": "8814b836-3a24-4601-a6ea-2451bf64d72e"
      },
      "execution_count": null,
      "outputs": [
        {
          "output_type": "stream",
          "name": "stdout",
          "text": [
            "tfidf_knn:\n",
            "{'f1': 0.5539098582576844, 'roc_auc': 0.7160736141932843, 'accuracy': 0.44940603978817806, 'coverage_error': 25.026334621439815, 'label_ranking_average_precision_score': 0.48348946745255206}\n"
          ]
        }
      ]
    },
    {
      "cell_type": "code",
      "source": [
        "from sklearn.naive_bayes import MultinomialNB\n",
        "from sklearn.multiclass import OneVsRestClassifier\n",
        "\n",
        "\n",
        "tfidf_NB = Pipeline([\n",
        "   ('vectorizer', TfidfVectorizer(ngram_range=(1,3),\n",
        "                                   analyzer=\"word\",\n",
        "                                   max_features=None,\n",
        "                                   stop_words=stopwords.words('spanish'),\n",
        "                                   use_idf=True,\n",
        "                                   lowercase=True)),\n",
        "    ('nb', OneVsRestClassifier(MultinomialNB()))\n",
        "])\n",
        "\n",
        "\n",
        "tfidf_NB.fit(X_train, y_train)\n",
        "ypred2 = tfidf_NB.predict(X_test)\n",
        "\n",
        "print(f'tfidf_nb:')\t\n",
        "\n",
        "print(multi_label_metrics(y_test, ypred2))"
      ],
      "metadata": {
        "colab": {
          "base_uri": "https://localhost:8080/"
        },
        "id": "JYi8Vw4oTxyp",
        "outputId": "8feef2e2-30b9-4bd4-98ef-257d60610bb4"
      },
      "execution_count": null,
      "outputs": [
        {
          "output_type": "stream",
          "name": "stdout",
          "text": [
            "tfidf_nb:\n",
            "{'f1': 0.12960580184816936, 'roc_auc': 0.5346818701196979, 'accuracy': 0.0762845284099041, 'coverage_error': 41.64348074996422, 'label_ranking_average_precision_score': 0.10136443871953556}\n"
          ]
        }
      ]
    },
    {
      "cell_type": "code",
      "source": [
        "from sklearn.svm import SVC\n",
        "\n",
        "tfidf_SVC = Pipeline([\n",
        "   ('vectorizer', TfidfVectorizer(ngram_range=(1,3),\n",
        "                                   analyzer=\"word\",\n",
        "                                   max_features=None,\n",
        "                                   stop_words=stopwords.words('spanish'),\n",
        "                                   use_idf=True,\n",
        "                                   lowercase=True)),\n",
        "    ('linearsvc', OneVsRestClassifier(SVC(random_state=42)))\n",
        "])\n",
        "\n",
        "\n",
        "tfidf_SVC.fit(X_train, y_train)\n",
        "ypred2 = tfidf_SVC.predict(X_test)\n",
        "\n",
        "\n",
        "print(f'tfidf_SVC:')\t\n",
        "print(multi_label_metrics(y_test, ypred2))\n"
      ],
      "metadata": {
        "colab": {
          "base_uri": "https://localhost:8080/"
        },
        "id": "gYNZPMwgHPgo",
        "outputId": "6fb2a505-2b82-4f0d-fcad-1249b1a00495"
      },
      "execution_count": null,
      "outputs": [
        {
          "output_type": "stream",
          "name": "stdout",
          "text": [
            "tfidf_SVC:\n",
            "{'f1': 0.6899478778853314, 'roc_auc': 0.7888856672298645, 'accuracy': 0.5787891799055389, 'coverage_error': 18.48604551309575, 'label_ranking_average_precision_score': 0.6220028290015465}\n"
          ]
        }
      ]
    },
    {
      "cell_type": "code",
      "source": [
        "from sklearn.multiclass import OneVsRestClassifier\n",
        "from sklearn.svm import SVC\n",
        "\n",
        "tfidf_SVMrbf = Pipeline([\n",
        "    ('vectorizer', TfidfVectorizer(ngram_range=(1,3),\n",
        "                                   analyzer=\"word\",\n",
        "                                   max_features=None,\n",
        "                                   stop_words=stopwords.words('spanish'),\n",
        "                                   use_idf=True,\n",
        "                                   lowercase=True)),\n",
        "    ('rbfsvc', OneVsRestClassifier(SVC(kernel=\"rbf\", random_state=42)))\n",
        "])\n",
        "\n",
        "\n",
        "tfidf_SVMrbf.fit(X_train, y_train)\n",
        "ypred2 = tfidf_SVMrbf.predict(X_test)\n",
        "\n",
        "\n",
        "print(f'tfidf_SVMrbf:')\t\n",
        "print(multi_label_metrics(y_test, ypred2))"
      ],
      "metadata": {
        "colab": {
          "base_uri": "https://localhost:8080/"
        },
        "id": "xjXlXc3n0op3",
        "outputId": "695d55da-eeb2-42b4-eba7-fae240f8b2a1"
      },
      "execution_count": null,
      "outputs": [
        {
          "output_type": "stream",
          "name": "stdout",
          "text": [
            "tfidf_SVMrbf:\n",
            "{'f1': 0.5824157208199221, 'roc_auc': 0.714729731280336, 'accuracy': 0.44425361385430084, 'coverage_error': 25.20037211965078, 'label_ranking_average_precision_score': 0.47694835141164926}\n"
          ]
        }
      ]
    },
    {
      "cell_type": "code",
      "source": [
        "from sklearn.ensemble import RandomForestClassifier\n",
        "\n",
        "tfidf_random_forest = Pipeline([\n",
        "    ('vectorizer', TfidfVectorizer(ngram_range=(1,3),\n",
        "                                   analyzer=\"word\",\n",
        "                                   max_features=None,\n",
        "                                   stop_words=stopwords.words('spanish'),\n",
        "                                   use_idf=True,\n",
        "                                   lowercase=True)),\n",
        "    ('randomforest', RandomForestClassifier(random_state=42))\n",
        "])\n",
        "\n",
        "\n",
        "\n",
        "tfidf_random_forest.fit(X_train, y_train)\n",
        "ypred3 = tfidf_random_forest.predict(X_test)\n",
        "\n",
        "\n",
        "print(f'tfidf_random_forest:')\t\n",
        "print(multi_label_metrics(y_test, ypred3))\n",
        "\n"
      ],
      "metadata": {
        "colab": {
          "base_uri": "https://localhost:8080/"
        },
        "id": "kwxxAPm-KP_Y",
        "outputId": "9e182203-db0d-49ae-bd5a-b8a887614bf9"
      },
      "execution_count": null,
      "outputs": [
        {
          "output_type": "stream",
          "name": "stdout",
          "text": [
            "tfidf_random_forest:\n",
            "{'f1': 0.6013359262703982, 'roc_auc': 0.7222796352213517, 'accuracy': 0.46328896522112495, 'coverage_error': 24.58680406469157, 'label_ranking_average_precision_score': 0.4884510627962856}\n"
          ]
        }
      ]
    },
    {
      "cell_type": "code",
      "source": [
        "from sklearn.ensemble import AdaBoostClassifier\n",
        "\n",
        "tfidf_adaboost = Pipeline([\n",
        "    ('vectorizer', TfidfVectorizer(ngram_range=(1,3),\n",
        "                                   analyzer=\"word\",\n",
        "                                   max_features=None,\n",
        "                                   stop_words=stopwords.words('spanish'),\n",
        "                                   use_idf=True,\n",
        "                                   lowercase=True)),\n",
        "    ('adaboost', OneVsRestClassifier(AdaBoostClassifier(random_state=42)))\n",
        "])\n",
        "\n",
        "\n",
        "\n",
        "tfidf_adaboost.fit(X_train, y_train)\n",
        "ypred3 = tfidf_adaboost.predict(X_test)\n",
        "\n",
        "\n",
        "print(f'tfidf_adaboost:')\t\n",
        "print(multi_label_metrics(y_test, ypred3))"
      ],
      "metadata": {
        "colab": {
          "base_uri": "https://localhost:8080/"
        },
        "id": "j-ZUzhm5wm_X",
        "outputId": "4d113cc8-cc89-4390-ff81-4cc54815fb43"
      },
      "execution_count": null,
      "outputs": [
        {
          "output_type": "stream",
          "name": "stdout",
          "text": [
            "tfidf_adaboost:\n",
            "{'f1': 0.5744369698742322, 'roc_auc': 0.7431720772095531, 'accuracy': 0.42221268069271506, 'coverage_error': 22.825962501789036, 'label_ranking_average_precision_score': 0.4936993129479292}\n"
          ]
        }
      ]
    }
  ]
}
